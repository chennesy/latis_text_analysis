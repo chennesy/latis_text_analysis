{
 "cells": [
  {
   "cell_type": "markdown",
   "metadata": {},
   "source": [
    "# Computational Text Analysis (UMN LATIS/Libraries)\n",
    "\n",
    "## Intro\n",
    "During this session, we'll go from the basics of working with text (strings) in Python, to plotting sentiment and topics of a corpus of texts. \n",
    "- String Manipulation & Methods\n",
    "- Reading in Text Files\n",
    "- Text Cleaning (Tokenization & Stemming)\n",
    "- Word Frequency\n",
    "- Sentiment\n",
    "\n",
    "We'll also cover basics of working with Python, including data structures like lists and dictionaries, creating functions, list comprehensions, and importing methods and classes from different libraries."
   ]
  },
  {
   "cell_type": "markdown",
   "metadata": {},
   "source": [
    "### Logistics\n",
    "- Zoom Layout \n",
    "    - Turn off Side By Side in view options\n",
    "    - Set view to 100%\n",
    "    - Multiple monitors will help\n",
    "    - Please use the Chat window for questions; we'll be monitoring\n",
    "- Overview of JupyterLabs\n",
    "- Scaling Level of Content\n",
    "    - Our first hour will be entry-level \n",
    "    - By the end, more advanced\n",
    "    - So hopefully something for everyone"
   ]
  },
  {
   "cell_type": "markdown",
   "metadata": {},
   "source": [
    "### Strings\n",
    "To work with text in Python it's important to be able to manipulate string variables. Let's create a variable called text_string and print it as output."
   ]
  },
  {
   "cell_type": "code",
   "execution_count": 1,
   "metadata": {},
   "outputs": [
    {
     "name": "stdout",
     "output_type": "stream",
     "text": [
      "Hi there\n"
     ]
    }
   ],
   "source": [
    "text_string = 'Hi there'\n",
    "print(text_string)"
   ]
  },
  {
   "cell_type": "markdown",
   "metadata": {},
   "source": [
    "We can check what kind of a variable this is by using the built-in type() function in Python."
   ]
  },
  {
   "cell_type": "code",
   "execution_count": 2,
   "metadata": {},
   "outputs": [
    {
     "data": {
      "text/plain": [
       "str"
      ]
     },
     "execution_count": 2,
     "metadata": {},
     "output_type": "execute_result"
    }
   ],
   "source": [
    "type(text_string)"
   ]
  },
  {
   "cell_type": "markdown",
   "metadata": {},
   "source": [
    "We can refer to specific characters in the string by slicing it using brackets:"
   ]
  },
  {
   "cell_type": "code",
   "execution_count": 3,
   "metadata": {},
   "outputs": [
    {
     "name": "stdout",
     "output_type": "stream",
     "text": [
      "H\n"
     ]
    }
   ],
   "source": [
    "print(text_string[0])"
   ]
  },
  {
   "cell_type": "code",
   "execution_count": 4,
   "metadata": {},
   "outputs": [
    {
     "data": {
      "text/plain": [
       "'i'"
      ]
     },
     "execution_count": 4,
     "metadata": {},
     "output_type": "execute_result"
    }
   ],
   "source": [
    "text_string[1]"
   ]
  },
  {
   "cell_type": "code",
   "execution_count": 5,
   "metadata": {},
   "outputs": [
    {
     "data": {
      "text/plain": [
       "'Hi '"
      ]
     },
     "execution_count": 5,
     "metadata": {},
     "output_type": "execute_result"
    }
   ],
   "source": [
    "text_string[0:3]"
   ]
  },
  {
   "cell_type": "code",
   "execution_count": 6,
   "metadata": {},
   "outputs": [
    {
     "data": {
      "text/plain": [
       "'there'"
      ]
     },
     "execution_count": 6,
     "metadata": {},
     "output_type": "execute_result"
    }
   ],
   "source": [
    "text_string[3:]"
   ]
  },
  {
   "cell_type": "markdown",
   "metadata": {},
   "source": [
    "We can also 'add' or *concatenate* strings together using the plus sign."
   ]
  },
  {
   "cell_type": "code",
   "execution_count": 7,
   "metadata": {
    "collapsed": true
   },
   "outputs": [
    {
     "data": {
      "text/plain": [
       "'Hi there!'"
      ]
     },
     "execution_count": 7,
     "metadata": {},
     "output_type": "execute_result"
    }
   ],
   "source": [
    "text_string + '!'"
   ]
  },
  {
   "cell_type": "code",
   "execution_count": 8,
   "metadata": {
    "collapsed": true
   },
   "outputs": [
    {
     "name": "stdout",
     "output_type": "stream",
     "text": [
      "Hi there!\n"
     ]
    }
   ],
   "source": [
    "text_string += '!'\n",
    "print(text_string)"
   ]
  },
  {
   "cell_type": "code",
   "execution_count": 9,
   "metadata": {
    "collapsed": true
   },
   "outputs": [
    {
     "data": {
      "text/plain": [
       "'Hi there! How are you today?'"
      ]
     },
     "execution_count": 9,
     "metadata": {},
     "output_type": "execute_result"
    }
   ],
   "source": [
    "text_string + ' ' + 'How are you today?'"
   ]
  },
  {
   "cell_type": "code",
   "execution_count": 10,
   "metadata": {},
   "outputs": [
    {
     "name": "stdout",
     "output_type": "stream",
     "text": [
      "1\n"
     ]
    }
   ],
   "source": [
    "text_var = \"here is my string: I want to find the colon\"\n",
    "count_colons = 0\n",
    "for t in text_var:\n",
    "    if t == ':':\n",
    "        count_colons +=1\n",
    "print(count_colons)"
   ]
  },
  {
   "cell_type": "markdown",
   "metadata": {},
   "source": [
    "### Built-in string methods\n",
    "Strings also have built-in methods that can operate on them. These include *join*, *find*, *replace*, *lower* and *upper*"
   ]
  },
  {
   "cell_type": "code",
   "execution_count": 11,
   "metadata": {},
   "outputs": [
    {
     "data": {
      "text/plain": [
       "'Cow are you today, Mike?'"
      ]
     },
     "execution_count": 11,
     "metadata": {},
     "output_type": "execute_result"
    }
   ],
   "source": [
    "how_string = 'How are you today, Mike?'\n",
    "how_string.replace('H', 'C')"
   ]
  },
  {
   "cell_type": "code",
   "execution_count": 12,
   "metadata": {},
   "outputs": [
    {
     "data": {
      "text/plain": [
       "'How were you yesterday, Mike?'"
      ]
     },
     "execution_count": 12,
     "metadata": {},
     "output_type": "execute_result"
    }
   ],
   "source": [
    "how_string.replace('are you today', 'were you yesterday')"
   ]
  },
  {
   "cell_type": "code",
   "execution_count": 13,
   "metadata": {},
   "outputs": [
    {
     "data": {
      "text/plain": [
       "'how are you today, mike?'"
      ]
     },
     "execution_count": 13,
     "metadata": {},
     "output_type": "execute_result"
    }
   ],
   "source": [
    "how_string.lower()"
   ]
  },
  {
   "cell_type": "code",
   "execution_count": 14,
   "metadata": {},
   "outputs": [
    {
     "data": {
      "text/plain": [
       "'HOW ARE YOU TODAY, MIKE?'"
      ]
     },
     "execution_count": 14,
     "metadata": {},
     "output_type": "execute_result"
    }
   ],
   "source": [
    "how_string.upper()"
   ]
  },
  {
   "cell_type": "code",
   "execution_count": 15,
   "metadata": {},
   "outputs": [
    {
     "data": {
      "text/plain": [
       "'Hxoxwx xaxrxex xyxoxux xtxoxdxaxyx,x xMxixkxex?'"
      ]
     },
     "execution_count": 15,
     "metadata": {},
     "output_type": "execute_result"
    }
   ],
   "source": [
    "'x'.join(how_string)"
   ]
  },
  {
   "cell_type": "markdown",
   "metadata": {},
   "source": [
    "### Reading files\n",
    "\n",
    "Usually you want to work with text from files though, and not manually create string variables. \n",
    "\n",
    "The first step is to read in the files containing the data. Common file types for text data are: \n",
    "* `.txt`\n",
    "* `.csv`\n",
    "* `.json`\n",
    "* `.html` \n",
    "* `.xml`\n",
    "\n",
    "Each file format requires specific Python tools or methods to read, but for our case, we'll be working with .txt files.\n",
    "\n",
    "#### Reading in `.txt` files\n",
    "\n",
    "Python has built-in support for reading in `.txt` files.\n",
    "\n",
    "Let's take a look at the first file in our directory (folder) of State of the Union addresses (`/sotu_text`):"
   ]
  },
  {
   "cell_type": "code",
   "execution_count": 16,
   "metadata": {
    "collapsed": true
   },
   "outputs": [
    {
     "name": "stdout",
     "output_type": "stream",
     "text": [
      "<_io.TextIOWrapper name='sotu_text/215.txt' mode='r' encoding='UTF-8'>\n"
     ]
    }
   ],
   "source": [
    "# create a new variable called file1 and read (\"r\") the first file in the sotu_text folder\n",
    "file1 = open(\"sotu_text/215.txt\",\"r\") \n",
    "print(file1)"
   ]
  },
  {
   "cell_type": "code",
   "execution_count": 17,
   "metadata": {},
   "outputs": [
    {
     "data": {
      "text/plain": [
       "_io.TextIOWrapper"
      ]
     },
     "execution_count": 17,
     "metadata": {},
     "output_type": "execute_result"
    }
   ],
   "source": [
    "# but when we print the variable, it's not yet stored as a string\n",
    "type(file1)"
   ]
  },
  {
   "cell_type": "code",
   "execution_count": 18,
   "metadata": {
    "collapsed": true
   },
   "outputs": [],
   "source": [
    "# to view the text, let's read in the file1 object to a new variable called \"text\" using .read() and then print out the first250 characters\n",
    "text = file1.read()"
   ]
  },
  {
   "cell_type": "code",
   "execution_count": 19,
   "metadata": {},
   "outputs": [
    {
     "name": "stdout",
     "output_type": "stream",
     "text": [
      "Mr. President, Mr. Speaker, Members of the 104th Congress, my fellow Americans: Again we are here in the sanctuary of democracy, and once again our democracy has spoken. So let me begin by congratulating all of you here in the 104th Congress and cong\n"
     ]
    }
   ],
   "source": [
    "print(text[0:250])"
   ]
  },
  {
   "cell_type": "markdown",
   "metadata": {},
   "source": [
    "### Tokenization\n",
    "\n",
    "Once we've read in the data, a common next step is to split a longer string into words. This step is referred to as \"tokenization\". That's because each occurrence of a word is called a \"token\". Each distinct word used is called a word \"type\". So the word type \"the\" may correspond to multiple tokens of \"the\" in a text.\n",
    "\n",
    "#### Tokenizing by whitespace\n",
    "Let's save each word to a list variable called 'tokens'"
   ]
  },
  {
   "cell_type": "code",
   "execution_count": 20,
   "metadata": {
    "collapsed": true
   },
   "outputs": [],
   "source": [
    "# use the split() function to split the text variable up by whitespace into a tokens list\n",
    "tokens = text.split()"
   ]
  },
  {
   "cell_type": "code",
   "execution_count": 21,
   "metadata": {},
   "outputs": [
    {
     "name": "stdout",
     "output_type": "stream",
     "text": [
      "4\n"
     ]
    }
   ],
   "source": [
    "counter = 0\n",
    "for t in tokens:\n",
    "    if t == 'President':\n",
    "        counter += 1\n",
    "print(counter)\n",
    "        "
   ]
  },
  {
   "cell_type": "code",
   "execution_count": 22,
   "metadata": {},
   "outputs": [
    {
     "data": {
      "text/plain": [
       "list"
      ]
     },
     "execution_count": 22,
     "metadata": {},
     "output_type": "execute_result"
    }
   ],
   "source": [
    "# what kind of a variable is tokens?\n",
    "type(tokens)"
   ]
  },
  {
   "cell_type": "markdown",
   "metadata": {},
   "source": [
    "### Lists \n",
    "You can view each item in a Python list using the same syntax we used above to slice a str variable. The first item in the tokens list is at ```tokens[0]``` and the second is ```tokens[1]```. You can view a range of the first 10 as follows:"
   ]
  },
  {
   "cell_type": "code",
   "execution_count": 23,
   "metadata": {},
   "outputs": [
    {
     "data": {
      "text/plain": [
       "['Mr.',\n",
       " 'President,',\n",
       " 'Mr.',\n",
       " 'Speaker,',\n",
       " 'Members',\n",
       " 'of',\n",
       " 'the',\n",
       " '104th',\n",
       " 'Congress,',\n",
       " 'my']"
      ]
     },
     "execution_count": 23,
     "metadata": {},
     "output_type": "execute_result"
    }
   ],
   "source": [
    "tokens[0:10]"
   ]
  },
  {
   "cell_type": "code",
   "execution_count": 24,
   "metadata": {},
   "outputs": [
    {
     "data": {
      "text/plain": [
       "'Mr.'"
      ]
     },
     "execution_count": 24,
     "metadata": {},
     "output_type": "execute_result"
    }
   ],
   "source": [
    "# the first one\n",
    "tokens[0]"
   ]
  },
  {
   "cell_type": "code",
   "execution_count": 25,
   "metadata": {},
   "outputs": [
    {
     "data": {
      "text/plain": [
       "['still', 'to', 'come.', 'Thank', 'you,', 'and', 'God', 'bless', 'you', 'all.']"
      ]
     },
     "execution_count": 25,
     "metadata": {},
     "output_type": "execute_result"
    }
   ],
   "source": [
    "# the last ten\n",
    "tokens[-10:]"
   ]
  },
  {
   "cell_type": "code",
   "execution_count": 26,
   "metadata": {},
   "outputs": [
    {
     "data": {
      "text/plain": [
       "'Presi'"
      ]
     },
     "execution_count": 26,
     "metadata": {},
     "output_type": "execute_result"
    }
   ],
   "source": [
    "# Note: you can also slice the string variables stored inside of a list\n",
    "tokens[1][0:5]"
   ]
  },
  {
   "cell_type": "markdown",
   "metadata": {},
   "source": [
    "### Sentence segmentation\n",
    "\n",
    "Sentence segmentation involves identifying the boundaries of sentences, and provides a different way to tokenize our text.\n",
    "\n",
    "#### Sentence segmentation by splitting on punctuation"
   ]
  },
  {
   "cell_type": "code",
   "execution_count": 27,
   "metadata": {},
   "outputs": [
    {
     "data": {
      "text/plain": [
       "'Mr'"
      ]
     },
     "execution_count": 27,
     "metadata": {},
     "output_type": "execute_result"
    }
   ],
   "source": [
    "# instead of the default whitespace for split(), you can identify the character or characters you'd like to split on\n",
    "sentences = text.split('.')\n",
    "sentences[0]"
   ]
  },
  {
   "cell_type": "markdown",
   "metadata": {},
   "source": [
    "We can check how many items are in any list using the len() function."
   ]
  },
  {
   "cell_type": "code",
   "execution_count": 28,
   "metadata": {},
   "outputs": [
    {
     "data": {
      "text/plain": [
       "467"
      ]
     },
     "execution_count": 28,
     "metadata": {},
     "output_type": "execute_result"
    }
   ],
   "source": [
    "len(sentences)"
   ]
  },
  {
   "cell_type": "code",
   "execution_count": 29,
   "metadata": {},
   "outputs": [
    {
     "data": {
      "text/plain": [
       "' What are we to do about it? \\n\\nMore than 60 years ago, at the dawn of another new era, President Roosevelt told our Nation, \"New conditions impose new requirements on Government and those who conduct Government'"
      ]
     },
     "execution_count": 29,
     "metadata": {},
     "output_type": "execute_result"
    }
   ],
   "source": [
    "# note that this method doesn't break out sentences that end with other punctuation, like question marks\n",
    "sentences[35]"
   ]
  },
  {
   "cell_type": "markdown",
   "metadata": {},
   "source": [
    "### Regular Expressions*\n",
    "We could improve on this by using regular expressions. They allow us to split strings using specific characters or patterns that match different *kinds* of characters. Regex is a very powerful tool, but we won't go into it much today. For help figuring out and working with regular expressions we recommend https://regex101.com/"
   ]
  },
  {
   "cell_type": "code",
   "execution_count": 30,
   "metadata": {
    "collapsed": true
   },
   "outputs": [],
   "source": [
    "import re"
   ]
  },
  {
   "cell_type": "markdown",
   "metadata": {},
   "source": [
    "Here we'll still use a fairly naive segmentation, breaking on any period, question mark, or exclamation point."
   ]
  },
  {
   "cell_type": "code",
   "execution_count": 31,
   "metadata": {
    "collapsed": true
   },
   "outputs": [],
   "source": [
    "# this pattern matches periods, question marks, or exclamation marks\n",
    "boundary_pattern = r'[.?!]'\n",
    "sentences_re = re.split(boundary_pattern, text)"
   ]
  },
  {
   "cell_type": "markdown",
   "metadata": {},
   "source": [
    "The regular expression above is bounded in *r' '* to let Python know it is a regular expression.\n",
    "\n",
    "Within that the square brackets *[  ]* specify a group of characters that you want to select from. Here you want to match any . ? or !"
   ]
  },
  {
   "cell_type": "code",
   "execution_count": 32,
   "metadata": {},
   "outputs": [
    {
     "data": {
      "text/plain": [
       "474"
      ]
     },
     "execution_count": 32,
     "metadata": {},
     "output_type": "execute_result"
    }
   ],
   "source": [
    "# there are now a few more sentences in our list\n",
    "len(sentences_re)"
   ]
  },
  {
   "cell_type": "code",
   "execution_count": 33,
   "metadata": {},
   "outputs": [
    {
     "data": {
      "text/plain": [
       "' What are we to do about it'"
      ]
     },
     "execution_count": 33,
     "metadata": {},
     "output_type": "execute_result"
    }
   ],
   "source": [
    "# and this sentence ends at the question mark\n",
    "sentences_re[35]"
   ]
  },
  {
   "cell_type": "markdown",
   "metadata": {},
   "source": [
    "### Strip whitespace\n",
    "\n",
    "This is an extremely common step in text cleaning. It's simple to perform and nicely pre-packaged in Python. It's particularly common for user-generated text (think survey forms)."
   ]
  },
  {
   "cell_type": "code",
   "execution_count": 34,
   "metadata": {},
   "outputs": [
    {
     "data": {
      "text/plain": [
       "' Hi there! '"
      ]
     },
     "execution_count": 34,
     "metadata": {},
     "output_type": "execute_result"
    }
   ],
   "source": [
    "string = \" Hi there! \"\n",
    "string"
   ]
  },
  {
   "cell_type": "code",
   "execution_count": 35,
   "metadata": {},
   "outputs": [
    {
     "data": {
      "text/plain": [
       "'Hi there!'"
      ]
     },
     "execution_count": 35,
     "metadata": {},
     "output_type": "execute_result"
    }
   ],
   "source": [
    "string.strip()"
   ]
  },
  {
   "cell_type": "markdown",
   "metadata": {},
   "source": [
    "We can also use ```strip()``` to remove \"line breaks\" from strings. Line breaks are often represented with \"escape characters\" such as ```\\n``` in text files."
   ]
  },
  {
   "cell_type": "code",
   "execution_count": 36,
   "metadata": {},
   "outputs": [
    {
     "data": {
      "text/plain": [
       "' and God bless you all.\\n\\n'"
      ]
     },
     "execution_count": 36,
     "metadata": {},
     "output_type": "execute_result"
    }
   ],
   "source": [
    "text[-25:]"
   ]
  },
  {
   "cell_type": "code",
   "execution_count": 37,
   "metadata": {},
   "outputs": [
    {
     "data": {
      "text/plain": [
       "'u, and God bless you all.'"
      ]
     },
     "execution_count": 37,
     "metadata": {},
     "output_type": "execute_result"
    }
   ],
   "source": [
    "# we can remove whitespace at the beginning and end of a string using .strip()\n",
    "stripped_text = text.strip()\n",
    "stripped_text[-25:]"
   ]
  },
  {
   "cell_type": "markdown",
   "metadata": {},
   "source": [
    "You can also run more complex find/replace patterns using regex. Here we use ```re.sub()``` to match any \\s+ characters with a single space."
   ]
  },
  {
   "cell_type": "code",
   "execution_count": 38,
   "metadata": {},
   "outputs": [
    {
     "data": {
      "text/plain": [
       "', and God bless you all. '"
      ]
     },
     "execution_count": 38,
     "metadata": {},
     "output_type": "execute_result"
    }
   ],
   "source": [
    "# we can use regular expressions to remove whitespace throughout the string\n",
    "# note that we are replacing any of the matching whitespace patterns with a single space ' '.\n",
    "whitespace_pattern = r'\\s+'\n",
    "clean_text = re.sub(whitespace_pattern, ' ', text)\n",
    "clean_text[-25:]"
   ]
  },
  {
   "cell_type": "markdown",
   "metadata": {},
   "source": [
    "### Text normalization\n",
    "Text normalization can help us clean our text to fit some standard patterns. One common normalization step is to remove case from the text.\n",
    "\n",
    "If you want to count the frequencies of words, for example, using lower case will ensure you don't count \"Death\" and \"death\" as two separate words."
   ]
  },
  {
   "cell_type": "code",
   "execution_count": 39,
   "metadata": {},
   "outputs": [
    {
     "data": {
      "text/plain": [
       "\"hi there! can you believe it's 2021?\""
      ]
     },
     "execution_count": 39,
     "metadata": {},
     "output_type": "execute_result"
    }
   ],
   "source": [
    "caps_string = \"Hi There! Can you believe it's 2021?\"\n",
    "caps_string.lower()"
   ]
  },
  {
   "cell_type": "code",
   "execution_count": 40,
   "metadata": {},
   "outputs": [
    {
     "data": {
      "text/plain": [
       "'mr. president, mr. speaker, members of the 104th congress, my fellow americans: again we are here in the sanctuary of democracy, and once again our democracy has spoken. so let me begin by congratulating all of you here in the 104th congress and cong'"
      ]
     },
     "execution_count": 40,
     "metadata": {},
     "output_type": "execute_result"
    }
   ],
   "source": [
    "clean_text = clean_text.lower()\n",
    "clean_text[0:250]"
   ]
  },
  {
   "cell_type": "markdown",
   "metadata": {},
   "source": [
    "Depending on your analysis, you might also want to throw out numerals."
   ]
  },
  {
   "cell_type": "code",
   "execution_count": 41,
   "metadata": {},
   "outputs": [
    {
     "data": {
      "text/plain": [
       "\"Hi There! Can you believe it's ?\""
      ]
     },
     "execution_count": 41,
     "metadata": {},
     "output_type": "execute_result"
    }
   ],
   "source": [
    "# remove digits using regex\n",
    "digits = r'\\d+'\n",
    "re.sub(digits, '', caps_string)"
   ]
  },
  {
   "cell_type": "code",
   "execution_count": 42,
   "metadata": {},
   "outputs": [
    {
     "data": {
      "text/plain": [
       "\"Hi There! Can you believe it's 2021?\""
      ]
     },
     "execution_count": 42,
     "metadata": {},
     "output_type": "execute_result"
    }
   ],
   "source": [
    "# note that since we didn't assign the changes to the string variable, the changes aren't \"saved\"\n",
    "caps_string"
   ]
  },
  {
   "cell_type": "markdown",
   "metadata": {},
   "source": [
    "#### Removing punctuation\n",
    "\n",
    "Sometimes you might want to keep only the alphanumeric characters (the letters and numbers) and ditch the punctuation. Here's how we can do that.\n"
   ]
  },
  {
   "cell_type": "code",
   "execution_count": 43,
   "metadata": {},
   "outputs": [
    {
     "data": {
      "text/plain": [
       "'!\"#$%&\\'()*+,-./:;<=>?@[\\\\]^_`{|}~'"
      ]
     },
     "execution_count": 43,
     "metadata": {},
     "output_type": "execute_result"
    }
   ],
   "source": [
    "import string\n",
    "string.punctuation"
   ]
  },
  {
   "cell_type": "code",
   "execution_count": 44,
   "metadata": {},
   "outputs": [
    {
     "data": {
      "text/plain": [
       "\"Hi There! Can you believe it's 2021\""
      ]
     },
     "execution_count": 44,
     "metadata": {},
     "output_type": "execute_result"
    }
   ],
   "source": [
    "# strip() will remove punctuation from the beginning or end of the string\n",
    "caps_string.strip(string.punctuation)"
   ]
  },
  {
   "cell_type": "markdown",
   "metadata": {},
   "source": [
    "The following code looks a little complex, but essentially it will move through each character in our ```caps_string``` variable, and replace any punctuation mark from our ```string.punctuation``` list with a blank string, ```''```"
   ]
  },
  {
   "cell_type": "code",
   "execution_count": 45,
   "metadata": {},
   "outputs": [
    {
     "data": {
      "text/plain": [
       "'Hi There Can you believe its 2021'"
      ]
     },
     "execution_count": 45,
     "metadata": {},
     "output_type": "execute_result"
    }
   ],
   "source": [
    "# this code will return all punctuation from the caps_string variable string\n",
    "''.join(word.strip(string.punctuation) for word in caps_string)"
   ]
  },
  {
   "cell_type": "code",
   "execution_count": 48,
   "metadata": {
    "collapsed": true
   },
   "outputs": [],
   "source": [
    "# let's remove punctuation from our SOTU speech\n",
    "clean_text = ''.join(word.strip(string.punctuation) for word in clean_text)"
   ]
  },
  {
   "cell_type": "markdown",
   "metadata": {},
   "source": [
    "### List comprehension"
   ]
  },
  {
   "cell_type": "markdown",
   "metadata": {},
   "source": [
    "This is what is called a *comprehension* in Python. A way to iterate or loop over multiple similar items, perform a task, and capture the result of that task for each of the items in a single object. It is very consise, and a powerful way to think about repetitive tasks, like text cleaning.\n",
    "\n",
    "They're easiest to understand by going backwards from the loop and conditions and then seeing what is done to them.\n",
    "\n",
    "So first, we're looping over each item (which we're calling *char* in the list *clean_text*:\n",
    "Then, we're running the .strip() method on that item and stripping all punctuation as listed in string.punctuation"
   ]
  },
  {
   "cell_type": "code",
   "execution_count": 49,
   "metadata": {
    "collapsed": true
   },
   "outputs": [],
   "source": [
    "# as a for-loop, this would look like the following, but the output wouldn't be saved\n",
    "for char in clean_text:\n",
    "    char.strip(string.punctuation)"
   ]
  },
  {
   "cell_type": "code",
   "execution_count": 50,
   "metadata": {},
   "outputs": [
    {
     "data": {
      "text/plain": [
       "['m', 'r', ' ', 'p', 'r', 'e', 's', 'i', 'd', 'e']"
      ]
     },
     "execution_count": 50,
     "metadata": {},
     "output_type": "execute_result"
    }
   ],
   "source": [
    "# as a list comprehension, we can capture the output into a single list\n",
    "output = [char.strip(string.punctuation) for char in clean_text]\n",
    "output[0:10]"
   ]
  },
  {
   "cell_type": "markdown",
   "metadata": {},
   "source": [
    "Lastly, we want that result as a single string, rather than a list of separate words, so we're using some Python slight of hand to make that happen: we're joining, or concatenating each item of that list to an empty string"
   ]
  },
  {
   "cell_type": "code",
   "execution_count": 51,
   "metadata": {
    "collapsed": true
   },
   "outputs": [
    {
     "data": {
      "text/plain": [
       "'mr president mr speaker members of the 104th congress my fellow americans again we are here in the sanctuary of democracy and once again our democracy has spoken so let me begin by congratulating all of you here in the 104th congress and congratulating you mr speaker if we agree on nothing else tonight we must agree that the american people certainly voted for change in 1992 and in 1994 and as i look out at you i know how some of you must have felt in 1992 laughter i must say that in both years we didnt hear america singing we heard america shouting and now all of us republicans and democrats alike must say we hear you we will work together to earn the jobs you have given us for we are the keepers of a sacred trust and we must be faithful to it in this new and very demanding era over 200 years ago our founders changed the entire course of human history by joining together to create a new country based on a single powerful idea we hold these truths to be selfevident that all men are created equal    endowed by their creator with certain unalienable rights and among these are life liberty and the pursuit of happiness it has fallen to every generation since then to preserve that idea the american idea and to deepen and expand its meaning in new and different times to lincoln and to his congress to preserve the union and to end slavery to theodore roosevelt and woodrow wilson to restrain the abuses and excesses of the industrial revolution and to assert our leadership in the world to franklin roosevelt to fight the failure and pain of the great depression and to win our countrys great struggle against fascism and to all our presidents since to fight the cold war especially i recall two who struggled to fight that cold war in partnership with congresses where the majority was of a different party to harry truman who summoned us to unparalleled prosperity at home and who built the architecture of the cold war and to ronald reagan whom we wish well tonight and who exhorted us to carry on until the twilight struggle against communism was won in another time of change and challenge i had the honor to be the first president to be elected in the postcoldwar era an era marked by the global economy the information revolution unparalleled change and opportunity and insecurity for the american people i came to this hallowed chamber 2 years ago on a mission to restore the american dream for all our people and to make sure that we move into the 21st century still the strongest force for freedom and democracy in the entire world i was determined then to tackle the tough problems too long ignored in this effort i am frank to say that i have made my mistakes and i have learned again the importance of humility in all human endeavor but i am also proud to say tonight that our country is stronger than it was 2 years ago thank you record numbers of americans are succeeding in the new global economy we are at peace and we are a force for peace and freedom throughout the world we have almost 6 million new jobs since i became president and we have the lowest combined rate of unemployment and inflation in 25 years our businesses are more productive and here we have worked to bring the deficit down to expand trade to put more police on our streets to give our citizens more of the tools they need to get an education and to rebuild their own communities but the rising tide is not lifting all boats while our nation is enjoying peace and prosperity too many of our people are still working harder and harder for less and less while our businesses are restructuring and growing more productive and competitive too many of our people still cant be sure of having a job next year or even next month and far more than our material riches are threatened things far more precious to us our children our families our values our civil life is suffering in america today citizens are working together less and shouting at each other more the common bonds of community which have been the great strength of our country from its very beginning are badly frayed what are we to do about it more than 60 years ago at the dawn of another new era president roosevelt told our nation new conditions impose new requirements on government and those who conduct government and from that simple proposition he shaped the new deal which helped to restore our nation to prosperity and define the relationship between our people and their government for half a century that approach worked in its time but we today we face a very different time and very different conditions we are moving from an industrial age built on gears and sweat to an information age demanding skills and learning and flexibility our government once a champion of national purpose is now seen by many as simply a captive of narrow interests putting more burdens on our citizens rather than equipping them to get ahead the values that used to hold us all together seem to be coming apart so tonight we must forge a new social compact to meet the challenges of this time as we enter a new era we need a new set of understandings not just with government but even more important with one another as americans thats what i want to talk with you about tonight i call it the new covenant but its grounded in a very very old idea that all americans have not just a right but a solemn responsibility to rise as far as their godgiven talents and determination can take them and to give something back to their communities and their country in return opportunity and responsibility they go hand in hand we cant have one without the other and our national community cant hold together without both our new covenant is a new set of understandings for how we can equip our people to meet the challenges of a new economy how we can change the way our government works to fit a different time and above all how we can repair the damaged bonds in our society and come together behind our common purpose we must have dramatic change in our economy our government and ourselves my fellow americans without regard to party let us rise to the occasion let us put aside partisanship and pettiness and pride as we embark on this new course let us put our country first remembering that regardless of party label we are all americans and let the final test of everything we do be a simple one is it good for the american people let me begin by saying that we cannot ask americans to be better citizens if we are not better servants you made a good start by passing that law which applies to congress all the laws you put on the private sector and i was proud to sign it yesterday but we have a lot more to do before people really trust the way things work around here three times as many lobbyists are in the streets and corridors of washington as were here 20 years ago the american people look at their capital and they see a city where the wellconnected and the wellprotected can work the system but the interests of ordinary citizens are often left out as the new congress opened its doors lobbyists were still doing business as usual the gifts the trips all the things that people are concerned about havent stopped twice this month you missed opportunities to stop these practices i know there were other considerations in those votes but i want to use something that ive heard my republican friends say from time to time there doesnt have to be a law for everything so tonight i ask you to just stop taking the lobbyists perks just stop we dont have to wait for legislation to pass to send a strong signal to the american people that things are really changing but i also hope you will send me the strongest possible lobby reform bill and ill sign that too we should require lobbyists to tell the people for whom they work what theyre spending what they want we should also curb the role of big money in elections by capping the cost of campaigns and limiting the influence of pacs and as i have said for 3 years we should work to open the airwaves so that they can be an instrument of democracy not a weapon of destruction by giving free tv time to candidates for public office when the last congress killed political reform last year it was reported in the press that the lobbyists actually stood in the halls of this sacred building and cheered this year lets give the folks at home something to cheer about more important i think we all agree that we have to change the way the government works lets make it smaller less costly and smarter leaner not meaner i just told the speaker the equal time doctrine is alive and well laughter the new covenant approach to governing is as different from the old bureaucratic way as the computer is from the manual typewriter the old way of governing around here protected organized interests we should look out for the interests of ordinary people the old way divided us by interest constituency or class the new covenant way should unite us behind a common vision of whats best for our country the old way dispensed services through large topdown inflexible bureaucracies the new covenant way should shift these resources and decisionmaking from bureaucrats to citizens injecting choice and competition and individual responsibility into national policy the old way of governing around here actually seemed to reward failure the new covenant way should have builtin incentives to reward success the old way was centralized here in washington the new covenant way must take hold in the communities all across america and we should help them to do that our job here is to expand opportunity not bureaucracy to empower people to make the most of their own lives and to enhance our security here at home and abroad we must not ask government to do what we should do for ourselves we should rely on government as a partner to help us to do more for ourselves and for each other i hope very much that as we debate these specific and exciting matters we can go beyond the sterile discussion between the illusion that there is somehow a program for every problem on the one hand and the other illusion that the government is a source of every problem we have our job is to get rid of yesterdays government so that our own people can meet todays and tomorrows needs and we ought to do it together you know for years before i became president i heard others say they would cut government and how bad it was but not much happened we actually did it we cut over a quarter of a trillion dollars in spending more than 300 domestic programs more than 100000 positions from the federal bureaucracy in the last 2 years alone based on decisions already made we will have cut a total of more than a quarter of a million positions from the federal government making it the smallest it has been since john kennedy was president by the time i come here again next year under the leadership of vice president gore our initiatives have already saved taxpayers 63 billion the age of the 500 hammer and the ashtray you can break on david letterman is gone deadwood programs like mohair subsidies are gone weve streamlined the agriculture department by reducing it by more than 1200 offices weve slashed the small business loan form from an inch thick to a single page weve thrown away the governments 10000page personnel manual and the government is working better in important ways fema the federal emergency management agency has gone from being a disaster to helping people in disasters you can ask the farmers in the middle west who fought the flood there or the people in california who have dealt with floods and earthquakes and fires and theyll tell you that government workers working hand in hand with private business rebuilt southern californias fractured freeways in record time and under budget and because the federal government moved fast all but one of the 5600 schools damaged in the earthquake are back in business now there are a lot of other things that i could talk about i want to just mention one because it will be discussed here in the next few weeks university administrators all over the country have told me that they are saving weeks and weeks of bureaucratic time now because of our direct college loan program which makes college loans cheaper and more affordable with better repayment terms for students costs the government less and cuts out paperwork and bureaucracy for the government and for the universities we shouldnt cap that program we should give every college in america the opportunity to be a part of it previous government programs gathered dust the reinventing government report is getting results and were not through theres going to be a second round of reinventing government we propose to cut 130 billion in spending by shrinking departments extending our freeze on domestic spending cutting 60 public housing programs down to 3 getting rid of over 100 programs we do not need like the interstate commerce commission and the helium reserve program and were working on getting rid of unnecessary regulations and making them more sensible the programs and regulations that have outlived their usefulness should go we have to cut yesterdays government to help solve tomorrows problems and we need to get government closer to the people its meant to serve we need to help move programs down to the point where states and communities and private citizens in the private sector can do a better job if they can do it we ought to let them do it we should get out of the way and let them do what they can do better taking power away from federal bureaucracies and giving it back to communities and individuals is something everyone should be able to be for its time for congress to stop passing on to the states the cost of decisions we make here in washington i know there are still serious differences over the details of the unfunded mandates legislation but i want to work with you to make sure we pass a reasonable bill which will protect the national interests and give justified relief where we need to give it for years congress concealed in the budget scores of pet spending projects last year was no difference there was a 1 million to study stress in plants and 12 million for a tick removal program that didnt work its hard to remove ticks those of us who have had them know laughter but ill tell you something if youll give me lineitem veto ill remove some of that unnecessary spending but i think we should all remember and almost all of us would agree that government still has important responsibilities our young peoplemdashwe should think of this when we cutmdash our young people hold our future in their hands we still owe a debt to our veterans and our senior citizens have made us what we are now my budget cuts a lot but it protects education veterans social security and medicare and i hope you will do the same thing you should and i hope you will and when we give more flexibility to the states let us remember that there are certain fundamental national needs that should be addressed in every state north and south east and west immunization against childhood disease school lunches in all our schools head start medical care and nutrition for pregnant women and infants all these things all these things are in the national interest i applaud your desire to get rid of costly and unnecessary regulations but when we deregulate lets remember what national action in the national interest has given us safer food for our families safer toys for our children safer nursing homes for our parents safer cars and highways and safer workplaces cleaner air and cleaner water do we need common sense and fairness in our regulations you bet we do but we can have common sense and still provide for safe drinking water we can have fairness and still clean up toxic dumps and we ought to do it should we cut the deficit more well of course we should of course we should but we can bring it down in a way that still protects our economic recovery and does not unduly punish people who should not be punished but instead should be helped i know many of you in this chamber support the balanced budget amendment i certainly want to balance the budget our administration has done more to bring the budget down and to save money than any in a very very long time if you believe passing this amendment is the right thing to do then you have to be straight with the american people they have a right to know what youre going to cut what taxes youre going to raise and how its going to affect them we should be doing things in the open around here for example everybody ought to know if this proposal is going to endanger social security i would oppose that and i think most americans would nothing has done more to undermine our sense of common responsibility than our failed welfare system this is one of the problems we have to face here in washington in our new covenant it rewards welfare over work it undermines family values it lets millions of parents get away without paying their child support it keeps a minority but a significant minority of the people on welfare trapped on it for a very long time ive worked on this problem for a long time nearly 15 years now as a governor i had the honor of working with the reagan administration to write the last welfare reform bill back in 1988 in the last 2 years we made a good start at continuing the work of welfare reform our administration gave two dozen states the right to slash through federal rules and regulations to reform their own welfare systems and to try to promote work and responsibility over welfare and dependency last year i introduced the most sweeping welfare reform plan ever presented by an administration we have to make welfare what it was meant to be a second chance not a way of life we have to help those on welfare move to work as quickly as possible to provide child care and teach them skills if thats what they need for up to 2 years and after that there ought to be a simple hard rule anyone who can work must go to work if a parent isnt paying child support they should be forced to pay we should suspend drivers license track them across state lines make them work off what they owe that is what we should do governments do not raise children people do and the parents must take responsibility for the children they bring into this world i want to work with you with all of you to pass welfare reform but our goal must be to liberate people and lift them up from dependence to independence from welfare to work from mere childbearing to responsible parenting our goal should not be to punish them because they happen to be poor we should we should require work and mutual responsibility but we shouldnt cut people off just because theyre poor theyre young or even because theyre unmarried we should promote responsibility by requiring young mothers to live at home with their parents or in other supervised settings by requiring them to finish school but we shouldnt put them and their children out on the street and i know all the arguments pro and con and i have read and thought about this for a long time i still dont think we can in good conscience punish poor children for the mistakes of their parents my fellow americans every single survey shows that all the american people care about this without regard to party or race or region so let this be the year we end welfare as we know it but also let this be the year that we are all able to stop using this issue to divide america no one is more eager to end welfaremdash applausemdashi may be the only president who has actually had the opportunity to sit in a welfare office whos actually spent hours and hours talking to people on welfare and i am telling you the people who are trapped on it know it doesnt work they also want to get off so we can promote together education and work and good parenting i have no problem with punishing bad behavior or the refusal to be a worker or a student or a responsible parent i just dont want to punish poverty and past mistakes all of us have made our mistakes and none of us can change our yesterdays but every one of us can change our tomorrows and americas best example of that may be lynn woolsey who worked her way off welfare to become a congresswoman from the state of california i know the members of this congress are concerned about crime as are all the citizens of our country and i remind you that last year we passed a very tough crime bill longer sentences three strikes and youre out almost 60 new capital punishment offenses more prisons more prevention 100000 more police and we paid for it all by reducing the size of the federal bureaucracy and giving the money back to local communities to lower the crime rate there may be other things we can do to be tougher on crime to be smarter with crime to help to lower that rate first well if there are lets talk about them and lets do them but lets not go back on the things that we did last year that we know work that we know work because the local law enforcement officers tell us that we did the right thing because local community leaders who have worked for years and years to lower the crime rate tell us that they work lets look at the experience of our cities and our rural areas where the crime rate has gone down and ask the people who did it how they did it and if what we did last year supports the decline in the crime ratemdash and i am convinced that it doesmdashlet us not go back on it lets stick with it implement it weve got 4 more hard years of work to do to do that i dont want to destroy the good atmosphere in the room or in the country tonight but i have to mention one issue that divided this body greatly last year the last congress also passed the brady bill and in the crime bill the ban on 19 assault weapons i dont think its a secret to anybody in this room that several members of the last congress who voted for that arent here tonight because they voted for it and i know therefore that some of you who are here because they voted for it are under enormous pressure to repeal it i just have to tell you how i feel about it the members of congress who voted for that bill and i would never do anything to infringe on the right to keep and bear arms to hunt and to engage in other appropriate sporting activities ive done it since i was a boy and im going to keep right on doing it until i cant do it anymore but a lot of people laid down their seats in congress so that police officers and kids wouldnt have to lay down their lives under a hail of assault weapon attack and i will not let that be repealed i will not let it be repealed id like to talk about a couple of other issues we have to deal with i want us to cut more spending but i hope we wont cut government programs that help to prepare us for the new economy promote responsibility and are organized from the grassroots up not by federal bureaucracy the very best example of this is the national service corps americorps it passed with strong bipartisan support and now there are 20000 americans more than ever served in one year in the peace corps working all over this country helping people persontoperson in local grassroots volunteer groups solving problems and in the process earning some money for their education this is citizenship at its best its good for the americorps members but its good for the rest of us too its the essence of the new covenant and we shouldnt stop it all americans not only in the states most heavily affected but in every place in this country are rightly disturbed by the large numbers of illegal aliens entering our country the jobs they hold might otherwise be held by citizens or legal immigrants the public service they use impose burdens on our taxpayers thats why our administration has moved aggressively to secure our borders more by hiring a record number of new border guards by deporting twice as many criminal aliens as ever before by cracking down on illegal hiring by barring welfare benefits to illegal aliens in the budget i will present to you we will try to do more to speed the deportation of illegal aliens who are arrested for crimes to better identify illegal aliens in the workplace as recommended by the commission headed by former congresswoman barbara jordan we are a nation of immigrants but we are also a nation of laws it is wrong and ultimately selfdefeating for a nation of immigrants to permit the kind of abuse of our immigration laws we have seen in recent years and we must do more to stop it the most important job of our government in this new era is to empower the american people to succeed in the global economy america has always been a land of opportunity a land where if you work hard you can get ahead weve become a great middle class country middle class values sustain us we must expand that middle class and shrink the under class even as we do everything we can to support the millions of americans who are already successful in the new economy america is once again the worlds strongest economic power almost 6 million new jobs in the last 2 years exports booming inflation down highwage jobs are coming back a record number of american entrepreneurs are living the american dream if we want it to stay that way those who work and lift our nation must have more of its benefits today too many of those people are being left out theyre working harder for less they have less security less income less certainty that they can even afford a vacation much less college for their kids or retirement for themselves we cannot let this continue if we dont act our economy will probably keep doing what its been doing since about 1978 when the income growth began to go to those at the very top of our economic scale and the people in the vast middle got very little growth and people who worked like crazy but were on the bottom then fell even further and further behind in the years afterward no matter how hard they worked weve got to have a government that can be a real partner in making this new economy work for all of our people a government that helps each and every one of us to get an education and to have the opportunity to renew our skills thats why we worked so hard to increase educational opportunities in the last 2 years from head start to public schools to apprenticeships for young people who dont go to college to making college loans more available and more affordable thats the first thing we have to do weve got to do something to empower people to improve their skills the second thing we ought to do is to help people raise their incomes immediately by lowering their taxes we took the first step in 1993 with a working family tax cut for 15 million families with incomes under 27000 a tax cut that this year will average about 1000 a family and we also gave tax reductions to most small and new businesses before we could do more than that we first had to bring down the deficit we inherited and we had to get economic growth up now weve done both and now we can cut taxes in a more comprehensive way but tax cuts should reinforce and promote our first obligation to empower our citizens through education and training to make the most of their own lives the spotlight should shine on those who make the right choices for themselves their families and their communities i have proposed the middle class bill of rights which should properly be called the bill of rights and responsibilities because its provisions only benefit those who are working to educate and raise their children and to educate themselves it will therefore give needed tax relief and raise incomes in both the short run and the long run in a way that benefits all of us there are four provisions first a tax deduction for all education and training after high school if you think about it we permit businesses to deduct their investment we permit individuals to deduct interest on their home mortgages but today an education is even more important to the economic wellbeing of our whole country than even those things are we should do everything we can to encourage it and i hope you will support it second we ought to cut taxes 500 for families with children under 13 third we ought to foster more savings and personal responsibility by permitting people to establish an individual retirement account and withdraw from it taxfree for the cost of education health care firsttime homebuying or the care of a parent and fourth we should pass a gi bill for americas workers we propose to collapse nearly 70 federal programs and not give the money to the states but give the money directly to the american people offer vouchers to them so that they if theyre laid off or if theyre working for a very low wage can get a voucher worth 2600 a year for up to 2 years to go to their local community colleges or wherever else they want to get the skills they need to improve their lives lets empower people in this way move it from the government directly to the workers of america now any one of us can call for a tax cut but i wont accept one that explodes the deficit or puts our recovery at risk we ought to pay for our tax cuts fully and honestly just 2 years ago it was an open question whether we would find the strength to cut the deficit thanks to the courage of the people who were here then many of whom didnt return we did cut the deficit we began to do what others said would not be done we cut the deficit by over 600 billion about 10000 for every family in this country its coming down 3 years in a row for the first time since mr truman was president and i dont think anybody in america wants us to let it explode again in the budget i will send you the middle class bill of rights is fully paid for by budget cuts in bureaucracy cuts in programs cuts in special interest subsidies and the spending cuts will more than double the tax cuts my budget pays for the middle class bill of rights without any cuts in medicare and i will oppose any attempts to pay for tax cuts with medicare cuts thats not the right thing to do i know that a lot of you have your own ideas about tax relief and some of them i find quite interesting i really want to work with all of you my test for our proposals will be will it create jobs and raise incomes will it strengthen our families and support our children is it paid for will it build the middle class and shrink the under class if it does ill support it but if it doesnt i wont the goal of building the middle class and shrinking the under class is also why i believe that you should raise the minimum wage it rewards work two and a half million americans two and a half million americans often women with children are working out there today for 425 an hour in terms of real buying power by next year that minimum wage will be at a 40year low thats not my idea of how the new economy ought to work now ive studied the arguments and the evidence for and against a minimum wage increase i believe the weight of the evidence is that a modest increase does not cost jobs and may even lure people back into the job market but the most important thing is you cant make a living on 425 an hour especially if you have children even with the working families tax cut we passed last year in the past the minimum wage has been a bipartisan issue and i think it should be again so i want to challenge you to have honest hearings on this to get together to find a way to make the minimum wage a living wage members of congress have been here less than a month but by the end of the week 28 days into the new year every member of congress will have earned as much in congressional salary as a minimum wage worker makes all year long everybody else here including the president has something else that too many americans do without and thats health care now last year we almost came to blows over health care but we didnt do anything and the cold hard fact is that since last year since i was here another 11 million americans in working families have lost their health care and the cold hard fact is that many millions more most of them farmers and small business people and selfemployed people have seen their premiums skyrocket their copays and deductibles go up theres a whole bunch of people in this country that in the statistics have health insurance but really what theyve got is a piece of paper that says they wont lose their home if they get sick now i still believe our country has got to move toward providing health security for every american family but i know that last year as the evidence indicates we bit off more than we could chew so im asking you that we work together lets do it step by step lets do whatever we have to do to get something done lets at least pass meaningful insurance reform so that no american risks losing coverage for facing skyrocketing prices that nobody loses their coverage because they face high prices or unavailable insurance when they change jobs or lose a job or a family member gets sick i want to work together with all of you who have an interest in this with the democrats who worked on it last time with the republican leaders like senator dole who has a longtime commitment to health care reform and made some constructive proposals in this area last year we ought to make sure that selfemployed people in small businesses can buy insurance at more affordable rates through voluntary purchasing pools we ought to help families provide longterm care for a sick parent or a disabled child we can work to help workers who lose their jobs at least keep their health insurance coverage for a year while they look for work and we can find a waymdashit may take some time but we can find a waymdashto make sure that our children have health care you know i think everybody in this room without regard to party can be proud of the fact that our country was rated as having the worlds most productive economy for the first time in nearly a decade but we cant be proud of the fact that were the only wealthy country in the world that has a smaller percentage of the work force and their children with health insurance today than we did 10 years ago the last time we were the most productive economy in the world so lets work together on this it is too important for politics as usual much of what the american people are thinking about tonight is what weve already talked about a lot of people think that the security concerns of america today are entirely internal to our borders they relate to the security of our jobs and our homes and our incomes and our children our streets our health and protecting those borders now that the cold war has passed its tempting to believe that all the security issues with the possible exception of trade reside here at home but its not so our security still depends upon our continued world leadership for peace and freedom and democracy we still cant be strong at home unless were strong abroad the financial crisis in mexico is a case in point i know its not popular to say it tonight but we have to act not for the mexican people but for the sake of the millions of americans whose livelihoods are tied to mexicos wellbeing if we want to secure american jobs preserve american exports safeguard americas borders then we must pass the stabilization program and help to put mexico back on track now let me repeat its not a loan its not foreign aid its not a bailout we will be given a guarantee like cosigning a note with good collateral that will cover our risks this legislation is the right thing for america thats why the bipartisan leadership has supported it and i hope you in congress will pass it quickly it is in our interest and we can explain it to the american people because were going to do it in the right way you know tonight this is the first state of the union address ever delivered since the beginning of the cold war when not a single russian missile is pointed at the children of america and along with the russians were on our way to destroying the missiles and the bombers that carry 9000 nuclear warheads weve come so far so fast in this postcoldwar world that its easy to take the decline of the nuclear threat for granted but its still there and we arent finished yet this year ill ask the senate to approve start ii to eliminate weapons that carry 5000 more warheads the united states will lead the charge to extend indefinitely the nuclear nonproliferation treaty to enact a comprehensive nuclear test ban and to eliminate chemical weapons to stop and roll back north koreas potentially deadly nuclear program well continue to implement the agreement we have reached with that nation its smart its tough its a deal based on continuing inspection with safeguards for our allies and ourselves this year ill submit to congress comprehensive legislation to strengthen our hand in combating terrorists whether they strike at home or abroad as the cowards who bombed the world trade center found out this country will hunt down terrorists and bring them to justice just this week another horrendous terrorist act in israel killed 19 and injured scores more on behalf of the american people and all of you i send our deepest sympathy to the families of the victims i know that in the face of such evil it is hard for the people in the middle east to go forward but the terrorists represent the past not the future we must and we will pursue a comprehensive peace between israel and all her neighbors in the middle east accordingly last night i signed an executive order that will block the assets in the united states of terrorist organizations that threaten to disrupt the peace process it prohibits financial transactions with these groups and tonight i call on all our allies and peaceloving nations throughout the world to join us with renewed fervor in a global effort to combat terrorism we cannot permit the future to be marred by terror and fear and paralysis from the day i took the oath of office i pledged that our nation would maintain the best equipped best trained and best prepared military on earth we have and they are they have managed the dramatic downsizing of our forces after the cold war with remarkable skill and spirit but to make sure our military is ready for action and to provide the pay and the quality of life the military and their families deserve im asking the congress to add 25 billion in defense spending over the next 6 years i have visited many bases at home and around the world since i became president tonight i repeat that request with renewed conviction we ask a very great deal of our armed forces now that they are smaller in number we ask more of them they go out more often to more different places and stay longer they are called to service in many many ways and we must give them and their families what the times demand and what they have earned just think about what our troops have done in the last year showing america at its best helping to save hundreds of thousands of people in rwanda moving with lightning speed to head off another threat to kuwait giving freedom and democracy back to the people of haiti we have proudly supported peace and prosperity and freedom from south africa to northern ireland from central and eastern europe to asia from latin america to the middle east all these endeavors are good in those places but they make our future more confident and more secure well my fellow americans thats my agenda for americas future expanding opportunity not bureaucracy enhancing security at home and abroad empowering our people to make the most of their own lives its ambitious and achievable but its not enough we even need more than new ideas for changing the world or equipping americans to compete in the new economy more than a government thats smaller smarter and wiser more than all of the changes we can make in government and in the private sector from the outside in our fortunes and our posterity also depend upon our ability to answer some questions from within from the values and voices that speak to our hearts as well as our heads voices that tell us we have to do more to accept responsibility for ourselves and our families for our communities and yes for our fellow citizens we see our families and our communities all over this country coming apart and we feel the common ground shifting from under us the pta the town hall meeting the ball park its hard for a lot of overworked parents to find the time and space for those things that strengthen the bonds of trust and cooperation too many of our children dont even have parents and grandparents who can give them those experiences that they need to build their own character and their sense of identity we all know that while we here in this chamber can make a difference on those things that the real differences will be made by our fellow citizens where they work and where they live and that it will be made almost without regard to party when i used to go to the softball park in little rock to watch my daughters league and people would come up to me fathers and mothers and talk to me i can honestly say i had no idea whether 90 percent of them were republicans or democrats when i visited the relief centers after the floods in california northern california last week a woman came up to me and did something that very few of you would do she hugged me and said mr president im a republican but im glad youre here laughter now why we cant wait for disasters to act the way we used to act every day because as we move into this next century everybody matters we dont have a person to waste and a lot of people are losing a lot of chances to do better that means that we need a new covenant for everybody for our corporate and business leaders were going to work here to keep bringing the deficit down to expand markets to support their success in every possible way but they have an obligation when theyre doing well to keep jobs in our communities and give their workers a fair share of the prosperity they generate for people in the entertainment industry in this country we applaud your creativity and your worldwide success and we support your freedom of expression but you do have a responsibility to assess the impact of your work and to understand the damage that comes from the incessant repetitive mindless violence and irresponsible conduct that permeates our media all the time weve got to ask our community leaders and all kinds of organizations to help us stop our most serious social problem the epidemic of teen pregnancies and births where there is no marriage i have sent to congress a plan to target schools all over this country with antipregnancy programs that work but government can only do so much tonight i call on parents and leaders all across this country to join together in a national campaign against teen pregnancy to make a difference we can do this and we must and i would like to say a special word to our religious leaders you know im proud of the fact the united states has more houses of worship per capita than any country in the world these people who lead our houses of worship can ignite their congregations to carry their faith into action can reach out to all of our children to all of the people in distress to those who have been savaged by the breakdown of all we hold dear because so much of what must be done must come from the inside out and our religious leaders and their congregations can make all the difference they have a role in the new covenant as well there must be more responsibility for all of our citizens you know it takes a lot of people to help all the kids in trouble stay off the streets and in school it takes a lot of people to build the habitat for humanity houses that the speaker celebrates on his lapel pin it takes a lot of people to provide the people power for all of the civic organizations in this country that made our communities mean so much to most of us when we were kids it takes every parent to teach the children the difference between right and wrong and to encourage them to learn and grow and to say no to the wrong things but also to believe that they can be whatever they want to be i know its hard when youre working harder for less when youre under great stress to do these things a lot of our people dont have the time or the emotional stress they think to do the work of citizenship most of us in politics havent helped very much for years weve mostly treated citizens like they were consumers or spectators sort of political couch potatoes who were supposed to watch the tv ads either promise them something for nothing or play on their fears and frustrations and more and more of our citizens now get most of their information in very negative and aggressive ways that are hardly conducive to honest and open conversations but the truth is we have got to stop seeing each other as enemies just because we have different views if you go back to the beginning of this country the great strength of america as de tocqueville pointed out when he came here a long time ago has always been our ability to associate with people who were different from ourselves and to work together to find common ground and in this day everybody has a responsibility to do more of that we simply cannot want for a tornado a fire or a flood to behave like americans ought to behave in dealing with one another i want to finish up here by pointing out some folks that are up with the first lady that represent what im trying to talk aboutmdashcitizens i have no idea what their party affiliation is or who they voted for in the last election but they represent what we ought to be doing cindy perry teaches second graders to read in americorps in rural kentucky she gains when she gives shes a mother of four she says that her service inspired her to get her high school equivalency last year she was married when she was a teenagermdashstand up cindy she was married when she was a teenager she had four children but she had time to serve other people to get her high school equivalency and shes going to use her americorps money to go back to college chief stephen bishop is the police chief of kansas city hes been a national leadermdashstand up steve hes been a national leader in using more police in community policing and hes worked with americorps to do it and the crime rate in kansas city has gone down as a result of what he did corporal gregory depestre went to haiti as part of his adopted countrys force to help secure democracy in his native land and i might add we must be the only country in the world that could have gone to haiti and taken haitianamericans there who could speak the language and talk to the people and he was one of them and were proud of him the next two folks ive had the honor of meeting and getting to know a little bit the reverend john and the reverend diana cherry of the ame zion church in temple hills maryland id like to ask them to stand i want to tell you about them in the early eighties they left government service and formed a church in a small living room in a small house in the early eighties today that church has 17000 members it is one of the three or four biggest churches in the entire united states it grows by 200 a month they do it together and the special focus of their ministry is keeping families together two things they did make a big impression on me i visited their church once and i learned they were building a new sanctuary closer to the washington dc line in a higher crime higher drug rate area because they thought it was part of their ministry to change the lives of the people who needed them the second thing i want to say is that once reverend cherry was at a meeting at the white house with some other religious leaders and he left early to go back to this church to minister to 150 couples that he had brought back to his church from all over america to convince them to come back together to save their marriages and to raise their kids this is the kind of work that citizens are doing in america we need more of it and it ought to be lifted up and supported the last person i want to introduce is jack lucas from hattiesburg mississippi jack would you stand up fifty years ago in the sands of iwo jima jack lucas taught and learned the lessons of citizenship on february 20th 1945 he and three of his buddies encountered the enemy and two grenades at their feet jack lucas threw himself on both of them in that moment he saved the lives of his companions and miraculously in the next instant a medic saved his life he gained a foothold for freedom and at the age of 17 just a year older than his grandson who is up there with him todaymdash and his son who is a west point graduate and a veteranmdashat 17 jack lucas became the youngest marine in history and the youngest soldier in this century to win the congressional medal of honor all these years later yesterday heres what he said about that day it didnt matter where you were from or who you were you relied on one another you did it for your country we all gain when we give and we reap what we sow thats at the heart of this new covenant responsibility opportunity and citizenship more than stale chapters in some remote civic book theyre still the virtue by which we can fulfill ourselves and reach our godgiven potential and be like them and also to fulfill the eternal promise of this country the enduring dream from that first and most sacred covenant i believe every person in this country still believes that we are created equal and given by our creator the right to life liberty and the pursuit of happiness this is a very very great country and our best days are still to come thank you and god bless you all '"
      ]
     },
     "execution_count": 51,
     "metadata": {},
     "output_type": "execute_result"
    }
   ],
   "source": [
    "''.join(output)"
   ]
  },
  {
   "cell_type": "markdown",
   "metadata": {},
   "source": [
    "We're also overwriting the clean_text with the puctuation-stripped string, which is why you see that same variable on both the left and the right hand of the equals."
   ]
  },
  {
   "cell_type": "code",
   "execution_count": 53,
   "metadata": {
    "collapsed": true
   },
   "outputs": [],
   "source": [
    "clean_text = ''.join(char.strip(string.punctuation) for char in clean_text)"
   ]
  },
  {
   "cell_type": "code",
   "execution_count": 54,
   "metadata": {},
   "outputs": [
    {
     "data": {
      "text/plain": [
       "'mr president mr speaker members of the 104th congress my fellow americans again we are here in the sanctuary of democracy and once again our democracy has spoken so let me begin by congratulating all of you here in the 104th congress and congratulating you mr speaker if we agree on nothing else tonight we must agree that the american people certainly voted for change in 1992 and in 1994 and as i look out at you i know how some of you must have felt in 1992 laughter i must say that in both years '"
      ]
     },
     "execution_count": 54,
     "metadata": {},
     "output_type": "execute_result"
    }
   ],
   "source": [
    "clean_text[0:500]"
   ]
  },
  {
   "cell_type": "markdown",
   "metadata": {},
   "source": [
    "#### Remove anything but letters\n",
    "We can use a regular expression that matches only upper and lower case letters to remove everything else."
   ]
  },
  {
   "cell_type": "code",
   "execution_count": 58,
   "metadata": {},
   "outputs": [
    {
     "name": "stdout",
     "output_type": "stream",
     "text": [
      "original string:\n",
      " Hi There! Can you believe it's 2021?\n"
     ]
    },
    {
     "data": {
      "text/plain": [
       "'Hi There Can you believe it s '"
      ]
     },
     "execution_count": 58,
     "metadata": {},
     "output_type": "execute_result"
    }
   ],
   "source": [
    "# in this case we sub any non-letter characters out with a space, ' '\n",
    "print('original string:\\n', caps_string)\n",
    "letters_only = r'[^A-Za-z]+'\n",
    "re.sub(letters_only, ' ', caps_string)"
   ]
  },
  {
   "cell_type": "markdown",
   "metadata": {},
   "source": [
    "Again, to step through the RegEx:\n",
    "\n",
    "- *r' '* bounds the string as a regular expression.\n",
    "- The square brackets *[  ]* create a group, or class of characters you want to match. In this case: all capital letters A-Z OR all lowercase letters a-z\n",
    "- The caret at the start of this group *^* negates that grouping.\n",
    "\n",
    "So, as a result, we match any time we find a non-letter, and the replace it with a space."
   ]
  },
  {
   "cell_type": "markdown",
   "metadata": {},
   "source": [
    "### Tokenizing with the Natural Language Toolkit (NLTK)* *\n",
    "\n",
    "We can also use the Natural Language Toolkit (NLTK) to accomplish many of the steps we showed manually above. Or in the case of our clean_text variable, where we've already removed punctuation, we can use the word_tokenize module to break the text up into its consitutent tokens:"
   ]
  },
  {
   "cell_type": "code",
   "execution_count": 59,
   "metadata": {
    "collapsed": true
   },
   "outputs": [],
   "source": [
    "from nltk.tokenize import word_tokenize"
   ]
  },
  {
   "cell_type": "code",
   "execution_count": 60,
   "metadata": {},
   "outputs": [
    {
     "data": {
      "text/plain": [
       "['mr',\n",
       " 'president',\n",
       " 'mr',\n",
       " 'speaker',\n",
       " 'members',\n",
       " 'of',\n",
       " 'the',\n",
       " '104th',\n",
       " 'congress',\n",
       " 'my']"
      ]
     },
     "execution_count": 60,
     "metadata": {},
     "output_type": "execute_result"
    }
   ],
   "source": [
    "tokens = word_tokenize(clean_text)\n",
    "tokens[:10]"
   ]
  },
  {
   "cell_type": "code",
   "execution_count": 61,
   "metadata": {},
   "outputs": [],
   "source": [
    "from nltk.probability import FreqDist"
   ]
  },
  {
   "cell_type": "markdown",
   "metadata": {},
   "source": [
    "Now that we have a list of tokens we can count their frequencies in the speech. Let's use a builtin NLTK function called FreqDist() to look at our most common words."
   ]
  },
  {
   "cell_type": "code",
   "execution_count": 62,
   "metadata": {},
   "outputs": [
    {
     "data": {
      "text/plain": [
       "FreqDist({'the': 463, 'to': 401, 'and': 348, 'of': 231, 'we': 203, 'in': 180, 'a': 179, 'our': 140, 'that': 133, 'for': 113, ...})"
      ]
     },
     "execution_count": 62,
     "metadata": {},
     "output_type": "execute_result"
    }
   ],
   "source": [
    "#apply the FreqDist function to our tokens variable\n",
    "fdist = FreqDist(tokens)\n",
    "\n",
    "#fdist is a dictionary of unique words and the number of times they occur\n",
    "fdist"
   ]
  },
  {
   "cell_type": "markdown",
   "metadata": {},
   "source": [
    "### Dictionaries\n",
    "A Python dictionary is a way to hold an unordered list of items, using something called a 'key:value' pair. Above you can see the list of keys (tokens) and values (word counts) from the FreqDist dictionary. A good way to differentiate a Python dictionary from a Python list is to look at the brackets used:\n",
    "\n",
    "* ```{}``` curly brackets for dictionaries\n",
    "* ```[]``` square brackets for lists"
   ]
  },
  {
   "cell_type": "code",
   "execution_count": 64,
   "metadata": {},
   "outputs": [
    {
     "data": {
      "text/plain": [
       "[('the', 463),\n",
       " ('to', 401),\n",
       " ('and', 348),\n",
       " ('of', 231),\n",
       " ('we', 203),\n",
       " ('in', 180),\n",
       " ('a', 179),\n",
       " ('our', 140),\n",
       " ('that', 133),\n",
       " ('for', 113)]"
      ]
     },
     "execution_count": 64,
     "metadata": {},
     "output_type": "execute_result"
    }
   ],
   "source": [
    "#it also includes a handy method to find the most common words \n",
    "fdist.most_common(10)"
   ]
  },
  {
   "cell_type": "markdown",
   "metadata": {},
   "source": [
    "...which, to make things even more complicated, returns a list (see the square brackets continaing comma-separated items) containing tuples (those objects in parentheses, also containing comma-separated items). But we needn't get overly worried about that here. "
   ]
  },
  {
   "cell_type": "markdown",
   "metadata": {},
   "source": [
    "#### Removing stop words\n",
    "\n",
    "You might have noticed that the most common words above aren't terribly exciting. They're words like \"am\", \"i\", \"the\" and \"a\": stop words. These are rarely useful to us in computational text analysis, so it's very common to remove them completely.\n",
    "\n",
    "NLTK includes a stopwords module we can use. Not all stopwords lists are equal though: for your own research you might want to customize a stopwords list, or find one that is best-suited to your domain."
   ]
  },
  {
   "cell_type": "code",
   "execution_count": 65,
   "metadata": {},
   "outputs": [
    {
     "data": {
      "text/plain": [
       "179"
      ]
     },
     "execution_count": 65,
     "metadata": {},
     "output_type": "execute_result"
    }
   ],
   "source": [
    "from nltk.corpus import stopwords\n",
    "stop = stopwords.words('english')\n",
    "\n",
    "# how many stopwords are on the list?\n",
    "len(stop)"
   ]
  },
  {
   "cell_type": "code",
   "execution_count": 66,
   "metadata": {},
   "outputs": [
    {
     "data": {
      "text/plain": [
       "['i', 'me', 'my', 'myself', 'we', 'our', 'ours', 'ourselves', 'you', \"you're\"]"
      ]
     },
     "execution_count": 66,
     "metadata": {},
     "output_type": "execute_result"
    }
   ],
   "source": [
    "# what are the first ten word on the stopword list?\n",
    "stop[0:10]"
   ]
  },
  {
   "cell_type": "markdown",
   "metadata": {},
   "source": [
    "Let's create a new list of tokens, removing our stopwords along the way. \n",
    "\n",
    "This loop checks each word in our original tokens list, and if it does *not* appear on the stopword list, it adds it to a new list called tokens_clean."
   ]
  },
  {
   "cell_type": "code",
   "execution_count": 70,
   "metadata": {},
   "outputs": [
    {
     "data": {
      "text/plain": [
       "['mr',\n",
       " 'president',\n",
       " 'mr',\n",
       " 'speaker',\n",
       " 'members',\n",
       " '104th',\n",
       " 'congress',\n",
       " 'fellow',\n",
       " 'americans',\n",
       " 'sanctuary']"
      ]
     },
     "execution_count": 70,
     "metadata": {},
     "output_type": "execute_result"
    }
   ],
   "source": [
    "tokens_clean = [] \n",
    "  \n",
    "for w in tokens: \n",
    "    if w not in stop: \n",
    "        tokens_clean.append(w)\n",
    "tokens_clean[0:10]"
   ]
  },
  {
   "cell_type": "code",
   "execution_count": 71,
   "metadata": {},
   "outputs": [
    {
     "data": {
      "text/plain": [
       "['mr',\n",
       " 'president',\n",
       " 'mr',\n",
       " 'speaker',\n",
       " 'members',\n",
       " 'of',\n",
       " 'the',\n",
       " '104th',\n",
       " 'congress',\n",
       " 'my']"
      ]
     },
     "execution_count": 71,
     "metadata": {},
     "output_type": "execute_result"
    }
   ],
   "source": [
    "tokens[0:10]"
   ]
  },
  {
   "cell_type": "code",
   "execution_count": 68,
   "metadata": {
    "collapsed": true
   },
   "outputs": [
    {
     "data": {
      "text/plain": [
       "['mr',\n",
       " 'president',\n",
       " 'mr',\n",
       " 'speaker',\n",
       " 'members',\n",
       " '104th',\n",
       " 'congress',\n",
       " 'fellow',\n",
       " 'americans',\n",
       " 'sanctuary']"
      ]
     },
     "execution_count": 68,
     "metadata": {},
     "output_type": "execute_result"
    }
   ],
   "source": [
    "# advanced we can do the same thing quite efficiently with a list comprehension\n",
    "tokens_clean = [w for w in tokens if w not in stop]\n",
    "tokens_clean[0:10]"
   ]
  },
  {
   "cell_type": "code",
   "execution_count": 72,
   "metadata": {},
   "outputs": [
    {
     "data": {
      "text/plain": [
       "[('people', 72),\n",
       " ('work', 42),\n",
       " ('new', 41),\n",
       " ('us', 37),\n",
       " ('government', 34),\n",
       " ('country', 32),\n",
       " ('years', 29),\n",
       " ('year', 29),\n",
       " ('last', 28),\n",
       " ('time', 27)]"
      ]
     },
     "execution_count": 72,
     "metadata": {},
     "output_type": "execute_result"
    }
   ],
   "source": [
    "# now we can re-count the most common words after stop words are removed\n",
    "freq = FreqDist(tokens_clean)\n",
    "freq.most_common(10)"
   ]
  },
  {
   "cell_type": "markdown",
   "metadata": {},
   "source": [
    "Hmmm, still not terribly interesting but getting better..."
   ]
  },
  {
   "cell_type": "markdown",
   "metadata": {},
   "source": [
    "#### Stemming\n",
    "\n",
    "Stemming and lemmatization both refer to remove morphological affixes on words. For example, if we stem the word \"grows\", we get \"grow\". If we stem the word \"running\", we get \"run\". We do this because often we care more about the core content of the word (i.e. that it has something to do with growth or running, rather than the fact that it's a third person present tense verb, or progressive participle).\n",
    "\n",
    "NLTK provides many algorithms for stemming. For English, a great baseline is the [Porter](https://github.com/nltk/nltk/blob/develop/nltk/stem/porter.py) algorithm."
   ]
  },
  {
   "cell_type": "code",
   "execution_count": 73,
   "metadata": {},
   "outputs": [
    {
     "data": {
      "text/plain": [
       "'state'"
      ]
     },
     "execution_count": 73,
     "metadata": {},
     "output_type": "execute_result"
    }
   ],
   "source": [
    "# import the PorterStemmer and then stem the word \"states\" as an example\n",
    "from nltk.stem import PorterStemmer\n",
    "stemmer = PorterStemmer()\n",
    "stemmer.stem('states')"
   ]
  },
  {
   "cell_type": "code",
   "execution_count": 76,
   "metadata": {},
   "outputs": [
    {
     "data": {
      "text/plain": [
       "'govern'"
      ]
     },
     "execution_count": 76,
     "metadata": {},
     "output_type": "execute_result"
    }
   ],
   "source": [
    "stemmer.stem('government')"
   ]
  },
  {
   "cell_type": "code",
   "execution_count": 77,
   "metadata": {},
   "outputs": [
    {
     "data": {
      "text/plain": [
       "'roosevelt'"
      ]
     },
     "execution_count": 77,
     "metadata": {},
     "output_type": "execute_result"
    }
   ],
   "source": [
    "stemmer.stem('roosevelt')"
   ]
  },
  {
   "cell_type": "markdown",
   "metadata": {},
   "source": [
    "In a similar manner as the stopwords loop above, we can create a new list of stemmed tokens:"
   ]
  },
  {
   "cell_type": "code",
   "execution_count": 78,
   "metadata": {
    "collapsed": true
   },
   "outputs": [],
   "source": [
    "tokens_stemmed = []\n",
    "for t in tokens_clean:\n",
    "    tokens_stemmed.append(stemmer.stem(t))"
   ]
  },
  {
   "cell_type": "code",
   "execution_count": 79,
   "metadata": {},
   "outputs": [],
   "source": [
    "#or as a comprehension:\n",
    "tokens_stemmed = [stemmer.stem(t) for t in tokens_clean]"
   ]
  },
  {
   "cell_type": "code",
   "execution_count": 80,
   "metadata": {},
   "outputs": [
    {
     "data": {
      "text/plain": [
       "['mr',\n",
       " 'presid',\n",
       " 'mr',\n",
       " 'speaker',\n",
       " 'member',\n",
       " '104th',\n",
       " 'congress',\n",
       " 'fellow',\n",
       " 'american',\n",
       " 'sanctuari']"
      ]
     },
     "execution_count": 80,
     "metadata": {},
     "output_type": "execute_result"
    }
   ],
   "source": [
    "tokens_stemmed[0:10]"
   ]
  },
  {
   "cell_type": "markdown",
   "metadata": {},
   "source": [
    "Now that the words are stemmed, are the most common words any different? \n",
    "\n",
    "Here are the stemmed top ten."
   ]
  },
  {
   "cell_type": "code",
   "execution_count": 81,
   "metadata": {},
   "outputs": [
    {
     "name": "stdout",
     "output_type": "stream",
     "text": [
      "('peopl', 72)\n",
      "('work', 69)\n",
      "('year', 58)\n",
      "('new', 41)\n",
      "('american', 40)\n",
      "('govern', 39)\n",
      "('us', 37)\n",
      "('countri', 34)\n",
      "('cut', 32)\n",
      "('let', 30)\n"
     ]
    }
   ],
   "source": [
    "freq_stemmed = FreqDist(tokens_stemmed)\n",
    "for f in freq_stemmed.most_common(10):\n",
    "    print(f)"
   ]
  },
  {
   "cell_type": "markdown",
   "metadata": {},
   "source": [
    "And the unstemmed top ten:"
   ]
  },
  {
   "cell_type": "code",
   "execution_count": 82,
   "metadata": {},
   "outputs": [
    {
     "name": "stdout",
     "output_type": "stream",
     "text": [
      "('people', 72)\n",
      "('work', 42)\n",
      "('new', 41)\n",
      "('us', 37)\n",
      "('government', 34)\n",
      "('country', 32)\n",
      "('years', 29)\n",
      "('year', 29)\n",
      "('last', 28)\n",
      "('time', 27)\n"
     ]
    }
   ],
   "source": [
    "for f in freq.most_common(10):\n",
    "    print(f)"
   ]
  },
  {
   "cell_type": "markdown",
   "metadata": {},
   "source": [
    "Similar, but with some important differences. Notice that \"work\" went from 42 to 69 after stemming.  \n",
    "\n",
    "Why would that be?"
   ]
  },
  {
   "cell_type": "markdown",
   "metadata": {},
   "source": [
    "### Reading in multiple files\n",
    "\n",
    "Often, our text data is split across multiple files in a folder. We can read them all into a single variable using a Python tool called glob."
   ]
  },
  {
   "cell_type": "code",
   "execution_count": 83,
   "metadata": {
    "collapsed": true
   },
   "outputs": [],
   "source": [
    "import glob"
   ]
  },
  {
   "cell_type": "code",
   "execution_count": 84,
   "metadata": {
    "collapsed": true
   },
   "outputs": [],
   "source": [
    "# save all of the files that end with .txt in the sotu_text/ folder to a variable called sotu_all\n",
    "sotu_all = glob.glob(\"sotu_text/*.txt\")"
   ]
  },
  {
   "cell_type": "code",
   "execution_count": 85,
   "metadata": {},
   "outputs": [
    {
     "data": {
      "text/plain": [
       "['sotu_text/060.txt',\n",
       " 'sotu_text/074.txt',\n",
       " 'sotu_text/048.txt',\n",
       " 'sotu_text/114.txt',\n",
       " 'sotu_text/100.txt',\n",
       " 'sotu_text/128.txt',\n",
       " 'sotu_text/129.txt',\n",
       " 'sotu_text/101.txt',\n",
       " 'sotu_text/115.txt',\n",
       " 'sotu_text/049.txt']"
      ]
     },
     "execution_count": 85,
     "metadata": {},
     "output_type": "execute_result"
    }
   ],
   "source": [
    "# this just saves the file-paths to a list though\n",
    "sotu_all[0:10]"
   ]
  },
  {
   "cell_type": "markdown",
   "metadata": {},
   "source": [
    "Those are out of order though. Let's sort the list so that the list index is in the same order as the speeches themselves (sotu_all[0] would equal 001.txt).\n",
    "\n",
    "*Something important to note is that **glob** can pull files differently on different systems (Windows/Mac OS/Linux). If you have a numeric identifier to your files, sorting them is always a good idea for reproducibility of your code, regardless of what system it may be run on*"
   ]
  },
  {
   "cell_type": "code",
   "execution_count": 86,
   "metadata": {},
   "outputs": [],
   "source": [
    "sotu_all.sort()"
   ]
  },
  {
   "cell_type": "code",
   "execution_count": 87,
   "metadata": {},
   "outputs": [
    {
     "data": {
      "text/plain": [
       "['sotu_text/001.txt',\n",
       " 'sotu_text/002.txt',\n",
       " 'sotu_text/003.txt',\n",
       " 'sotu_text/004.txt',\n",
       " 'sotu_text/005.txt',\n",
       " 'sotu_text/006.txt',\n",
       " 'sotu_text/007.txt',\n",
       " 'sotu_text/008.txt',\n",
       " 'sotu_text/009.txt',\n",
       " 'sotu_text/010.txt']"
      ]
     },
     "execution_count": 87,
     "metadata": {},
     "output_type": "execute_result"
    }
   ],
   "source": [
    "sotu_all[0:10]"
   ]
  },
  {
   "cell_type": "markdown",
   "metadata": {},
   "source": [
    "Now that we have a list of all the files we need to cycle through each one and save the text from the file.\n",
    "\n",
    "To do that we'll create a new list variable, speeches. For each file in the sotu_all variable we'll open and read the file, and save the text to the speeches list. "
   ]
  },
  {
   "cell_type": "code",
   "execution_count": 88,
   "metadata": {
    "collapsed": true
   },
   "outputs": [],
   "source": [
    "speeches = []\n",
    "for speech in sotu_all:\n",
    "    s = open(speech, 'r')\n",
    "    text = s.read()\n",
    "    speeches.append(text)"
   ]
  },
  {
   "cell_type": "code",
   "execution_count": 89,
   "metadata": {},
   "outputs": [
    {
     "data": {
      "text/plain": [
       "'\\n\\n Fellow Citizens of the Senate and of the House of Representatives: \\n\\nIn performing my duty at the opening of your present session it gives me pleasure to congratulate you again upon the prosperous condition of our beloved country. Divine Providenc'"
      ]
     },
     "execution_count": 89,
     "metadata": {},
     "output_type": "execute_result"
    }
   ],
   "source": [
    "# now we can refer to each speech from the list using the list index\n",
    "speeches[45][0:250]"
   ]
  },
  {
   "cell_type": "code",
   "execution_count": 90,
   "metadata": {},
   "outputs": [
    {
     "data": {
      "text/plain": [
       "'sotu_text/046.txt'"
      ]
     },
     "execution_count": 90,
     "metadata": {},
     "output_type": "execute_result"
    }
   ],
   "source": [
    "#which file is that?\n",
    "sotu_all[45]"
   ]
  },
  {
   "cell_type": "markdown",
   "metadata": {},
   "source": [
    "Here's a short comprehension version to tidy the open/append loop found above."
   ]
  },
  {
   "cell_type": "code",
   "execution_count": 91,
   "metadata": {
    "collapsed": true
   },
   "outputs": [],
   "source": [
    "speeches = [open(speech, 'r').read() for speech in sotu_all]"
   ]
  },
  {
   "cell_type": "code",
   "execution_count": 92,
   "metadata": {},
   "outputs": [
    {
     "data": {
      "text/plain": [
       "236"
      ]
     },
     "execution_count": 92,
     "metadata": {},
     "output_type": "execute_result"
    }
   ],
   "source": [
    "len(speeches)"
   ]
  },
  {
   "cell_type": "code",
   "execution_count": 93,
   "metadata": {},
   "outputs": [
    {
     "data": {
      "text/plain": [
       "\"Thank you. Mr. Speaker, Mr. Vice President, Members of Congress, my fellow Americans: Tonight marks the eighth year that I've come here to report on the State of the Union. And for this final one, I'm going to try to make it a little shorter. I know \""
      ]
     },
     "execution_count": 93,
     "metadata": {},
     "output_type": "execute_result"
    }
   ],
   "source": [
    "speeches[235][0:250]"
   ]
  },
  {
   "cell_type": "markdown",
   "metadata": {},
   "source": [
    "### Creating a Cleaning Function*\n",
    "Now that we have all the text data loaded, we can think about working on the corpus as a whole.\n",
    "\n",
    "Let's create a function that combines all of our cleaning protocols so that we can clean each State of the Union speech with a single piece of code. \n",
    "\n",
    "The function definition opens with the keyword ```def``` followed by the name of the function (clean_speech) and a parenthesized list of parameter names (speech). The body of the function — the statements that are executed when it runs — is indented below the definition line. The body concludes with a return keyword followed by the return value."
   ]
  },
  {
   "cell_type": "code",
   "execution_count": 94,
   "metadata": {},
   "outputs": [],
   "source": [
    "def clean_speech(speech):\n",
    "    speech = ''.join(word.strip(string.punctuation) for word in speech.lower())\n",
    "    speech = [stemmer.stem(w) for w in word_tokenize(speech) if w not in stop]\n",
    "    return speech"
   ]
  },
  {
   "cell_type": "markdown",
   "metadata": {},
   "source": [
    "You can call the function using the name of the function, and the variable you'd like to process as its parameter. To process only the first speech, for example, you could call:\n",
    "\n",
    "```clean_speech(speeches[0])```"
   ]
  },
  {
   "cell_type": "markdown",
   "metadata": {},
   "source": [
    "You could also assign the function's output to a variable so you can work with it later:\n",
    "\n",
    "```first_cleaned = clean_speech(speeches[0])```\n",
    "\n",
    "Let's put it all together and clean all of the speeches, and assign them to a new list, ```cleaned_speeches```."
   ]
  },
  {
   "cell_type": "code",
   "execution_count": 95,
   "metadata": {},
   "outputs": [],
   "source": [
    "# this cell might take a few minutes to run!\n",
    "cleaned_speeches = [clean_speech(speech) for speech in speeches]"
   ]
  },
  {
   "cell_type": "code",
   "execution_count": 96,
   "metadata": {},
   "outputs": [
    {
     "data": {
      "text/plain": [
       "236"
      ]
     },
     "execution_count": 96,
     "metadata": {},
     "output_type": "execute_result"
    }
   ],
   "source": [
    "len(cleaned_speeches)"
   ]
  },
  {
   "cell_type": "markdown",
   "metadata": {},
   "source": [
    "Notice that each item in the cleaned_speeches list is also a list."
   ]
  },
  {
   "cell_type": "code",
   "execution_count": 97,
   "metadata": {},
   "outputs": [
    {
     "data": {
      "text/plain": [
       "list"
      ]
     },
     "execution_count": 97,
     "metadata": {},
     "output_type": "execute_result"
    }
   ],
   "source": [
    "type(cleaned_speeches[0])"
   ]
  },
  {
   "cell_type": "code",
   "execution_count": 101,
   "metadata": {},
   "outputs": [
    {
     "data": {
      "text/plain": [
       "['fellowcitizen',\n",
       " 'senat',\n",
       " 'hous',\n",
       " 'repres',\n",
       " 'embrac',\n",
       " 'great',\n",
       " 'satisfact',\n",
       " 'opportun',\n",
       " 'present',\n",
       " 'congratul']"
      ]
     },
     "execution_count": 101,
     "metadata": {},
     "output_type": "execute_result"
    }
   ],
   "source": [
    "cleaned_speeches[0][0:10]"
   ]
  },
  {
   "cell_type": "markdown",
   "metadata": {},
   "source": [
    "### Word Frequencies with ConditionalFreqDist()"
   ]
  },
  {
   "cell_type": "code",
   "execution_count": 102,
   "metadata": {},
   "outputs": [],
   "source": [
    "import nltk\n",
    "cfd = nltk.ConditionalFreqDist()"
   ]
  },
  {
   "cell_type": "markdown",
   "metadata": {},
   "source": [
    "### Matplotlib\n",
    "We can use a tool called matplotlib to help visualize some of our results. NLTK uses matplotlib as the engine for their .plot() function, but let's call it explicitly here (so we can use it separately later) and also run some Jupyter \"magic\" to make sure the matplotlib visualizations appear inline (in the display) of our Jupyter view."
   ]
  },
  {
   "cell_type": "code",
   "execution_count": 103,
   "metadata": {},
   "outputs": [],
   "source": [
    "import matplotlib.pyplot as plt\n",
    "%matplotlib inline"
   ]
  },
  {
   "cell_type": "markdown",
   "metadata": {},
   "source": [
    "#### enumerate()\n",
    "* The built-in enumerate() function allows us to keep a count of our place in a for loop, and to reference the enumerated variable counter later on. We'll call our counter variable 'i' for index. \n",
    "* The first for-loop iterates through each speech in cleaned_speeches\n",
    "* The second for-loop iterates through each word in the speech at hand.\n",
    "* We'll unpack the ```cfd['americ'][i]+=1``` code a bit more later on, but note for now that ```+=1``` counts each occurence of any word that starts with 'americ' and ```[i]``` refers to the speech index. "
   ]
  },
  {
   "cell_type": "code",
   "execution_count": 104,
   "metadata": {},
   "outputs": [
    {
     "data": {
      "image/png": "[encoded data removed]",
      "text/plain": [
       "<Figure size 432x288 with 1 Axes>"
      ]
     },
     "metadata": {
      "needs_background": "light"
     },
     "output_type": "display_data"
    }
   ],
   "source": [
    "for i,speech in enumerate(cleaned_speeches):\n",
    "    for w in speech:\n",
    "        if w.startswith('americ'):\n",
    "            cfd['americ'][i]+=1            \n",
    "cfd.plot()"
   ]
  },
  {
   "cell_type": "markdown",
   "metadata": {},
   "source": [
    "Let's take a closer look at the cfd object. "
   ]
  },
  {
   "cell_type": "code",
   "execution_count": 105,
   "metadata": {},
   "outputs": [
    {
     "data": {
      "text/plain": [
       "<ConditionalFreqDist with 1 conditions>"
      ]
     },
     "execution_count": 105,
     "metadata": {},
     "output_type": "execute_result"
    }
   ],
   "source": [
    "cfd"
   ]
  },
  {
   "cell_type": "code",
   "execution_count": 106,
   "metadata": {},
   "outputs": [
    {
     "data": {
      "text/plain": [
       "nltk.probability.ConditionalFreqDist"
      ]
     },
     "execution_count": 106,
     "metadata": {},
     "output_type": "execute_result"
    }
   ],
   "source": [
    "type(cfd)"
   ]
  },
  {
   "cell_type": "markdown",
   "metadata": {},
   "source": [
    "This is a specialized class from nltk, but we interact with it as a Python dictionary. So we can request the items() in cfd:"
   ]
  },
  {
   "cell_type": "code",
   "execution_count": 107,
   "metadata": {},
   "outputs": [
    {
     "data": {
      "text/plain": [
       "dict_items([('americ', FreqDist({123: 111, 200: 95, 198: 91, 196: 88, 231: 88, 218: 87, 233: 87, 216: 86, 122: 85, 215: 84, ...}))])"
      ]
     },
     "execution_count": 107,
     "metadata": {},
     "output_type": "execute_result"
    }
   ],
   "source": [
    "cfd.items()"
   ]
  },
  {
   "cell_type": "markdown",
   "metadata": {},
   "source": [
    "We can view the dict_item key:"
   ]
  },
  {
   "cell_type": "code",
   "execution_count": 108,
   "metadata": {},
   "outputs": [
    {
     "data": {
      "text/plain": [
       "dict_keys(['americ'])"
      ]
     },
     "execution_count": 108,
     "metadata": {},
     "output_type": "execute_result"
    }
   ],
   "source": [
    "cfd.keys()"
   ]
  },
  {
   "cell_type": "markdown",
   "metadata": {},
   "source": [
    "The value for cfd dict_key ['americ'] is a FreqDist object. Within FreqDist() there's a regular Python dictionary. In that dictionary, the keys are the speech index, and the values are the term count we supplied in the nested loops above."
   ]
  },
  {
   "cell_type": "code",
   "execution_count": 109,
   "metadata": {},
   "outputs": [
    {
     "data": {
      "text/plain": [
       "FreqDist({123: 111, 200: 95, 198: 91, 196: 88, 231: 88, 218: 87, 233: 87, 216: 86, 122: 85, 215: 84, ...})"
      ]
     },
     "execution_count": 109,
     "metadata": {},
     "output_type": "execute_result"
    }
   ],
   "source": [
    "cfd['americ']"
   ]
  },
  {
   "cell_type": "markdown",
   "metadata": {},
   "source": [
    "We could have supplied additional 'conditionals' or terms for the distribution to create a comparative line chart, as well. That would have added additional items to the cfd dictionary.\n",
    "\n",
    "Here, we can hone in on a specific key from the dictionary that is inside FreqDist, by again calling the key name - which we assigned above to be the speech index. Inside the CFD loop ```cfd['americ'][i]+=1``` the ```[i]``` assigned each key to match the enumerate value, which was the speech index. So the following should show us the number of times words starting with 'americ' appear in the first speech in our corpus:    "
   ]
  },
  {
   "cell_type": "code",
   "execution_count": 110,
   "metadata": {},
   "outputs": [
    {
     "data": {
      "text/plain": [
       "0"
      ]
     },
     "execution_count": 110,
     "metadata": {},
     "output_type": "execute_result"
    }
   ],
   "source": [
    "cfd['americ'][0]"
   ]
  },
  {
   "cell_type": "markdown",
   "metadata": {},
   "source": [
    "What about the 200th speech?"
   ]
  },
  {
   "cell_type": "code",
   "execution_count": 111,
   "metadata": {},
   "outputs": [
    {
     "data": {
      "text/plain": [
       "17"
      ]
     },
     "execution_count": 111,
     "metadata": {},
     "output_type": "execute_result"
    }
   ],
   "source": [
    "cfd['americ'][199]"
   ]
  },
  {
   "cell_type": "markdown",
   "metadata": {},
   "source": [
    "It's hard to see from the plot above which specific speeches used the term the most. We can sort the cfd['americ'] dictionary by values to view the highest counts for 'americ'.\n",
    "\n",
    "We can easily sort sets of values in Python using the sorted() method. Since our counts are the 'value' portion of the 'cfd['americ']' dictionary, with the index as they 'key', we'll want to specify we want to sort the values specifically. By default, Python sorts ascending, so we'll need to specify we want to 'reverse' the sort. Let's see who uses terms like 'america' and 'americans' the most!"
   ]
  },
  {
   "cell_type": "code",
   "execution_count": 112,
   "metadata": {},
   "outputs": [
    {
     "data": {
      "text/plain": [
       "[111, 95, 91, 88, 88]"
      ]
     },
     "execution_count": 112,
     "metadata": {},
     "output_type": "execute_result"
    }
   ],
   "source": [
    "sorted(cfd['americ'].values(), reverse=True)[:5]"
   ]
  },
  {
   "cell_type": "markdown",
   "metadata": {},
   "source": [
    "You'll note that above we just get the frequencies of 'americ' terms appearing, rather than the index/key or identifier to know which speech that count occurs in. We can specify we want the identifier as follows."
   ]
  },
  {
   "cell_type": "code",
   "execution_count": 113,
   "metadata": {},
   "outputs": [
    {
     "data": {
      "text/plain": [
       "[123, 200, 198, 196, 231]"
      ]
     },
     "execution_count": 113,
     "metadata": {},
     "output_type": "execute_result"
    }
   ],
   "source": [
    "sorted(cfd['americ'], key=cfd['americ'].get, reverse=True)[:5]"
   ]
  },
  {
   "cell_type": "markdown",
   "metadata": {},
   "source": [
    "So now we know the speech at the index [123] has the highest count of 'americ' terms. Let's take a closer look."
   ]
  },
  {
   "cell_type": "code",
   "execution_count": 114,
   "metadata": {},
   "outputs": [
    {
     "data": {
      "text/plain": [
       "' national improvements, and to submit a plan for their execution; and when the plan has been submitted and approved, and the work carried out, Washington will really become what it ought to be-the most beautiful city in the world.   WILLIAM H. TAFT\\n\\n'"
      ]
     },
     "execution_count": 114,
     "metadata": {},
     "output_type": "execute_result"
    }
   ],
   "source": [
    "# who says \"americ...\" the most?\n",
    "speeches[123][-250:]"
   ]
  },
  {
   "cell_type": "markdown",
   "metadata": {},
   "source": [
    "### Detailed plotting\n",
    "If we want more control over the plot, we can use MatPlotLib to set some parameters more specifically."
   ]
  },
  {
   "cell_type": "code",
   "execution_count": 115,
   "metadata": {},
   "outputs": [
    {
     "data": {
      "image/png": "[encoded data removed]",
      "text/plain": [
       "<Figure size 960x640 with 1 Axes>"
      ]
     },
     "metadata": {
      "needs_background": "light"
     },
     "output_type": "display_data"
    }
   ],
   "source": [
    "x_speech = list(cfd['americ'].keys())\n",
    "y_count = list(cfd['americ'].values())\n",
    "fig=plt.figure(figsize=(12, 8), dpi= 80)\n",
    "plt.plot(x_speech, y_count)\n",
    "plt.ylabel(\"Count of \\'americ*\\'\")\n",
    "plt.xlabel(\"Speech\")\n",
    "plt.title(\"Use of \\'americ*\\' over time\")\n",
    "\n",
    "plt.show()"
   ]
  },
  {
   "cell_type": "markdown",
   "metadata": {},
   "source": [
    "### Sentiment Analysis*\n",
    "\n",
    "Sentiment analysis is an exploratory data analysis technique that \"seeks to quantify the emotional intensity of words and phrases within a text.\" (quote from the [Programming Historian SA tutorial](https://programminghistorian.org/en/lessons/sentiment-analysis))\n",
    "\n",
    "We can use more NLTK tools to run a simple sentiment analysis on our SOTU corpus. We'll download the vader_lexicon for sentiment analysis and the Vader and Sentiment modules. Don't worry if you see a warning that we don't have the twython library. We won't be using that since we're not analyzing twitter text."
   ]
  },
  {
   "cell_type": "code",
   "execution_count": 116,
   "metadata": {},
   "outputs": [
    {
     "name": "stderr",
     "output_type": "stream",
     "text": [
      "/anaconda3/lib/python3.7/site-packages/nltk/twitter/__init__.py:20: UserWarning: The twython library has not been installed. Some functionality from the twitter package will not be available.\n",
      "  warnings.warn(\"The twython library has not been installed. \"\n"
     ]
    }
   ],
   "source": [
    "#nltk.download('vader_lexicon')\n",
    "from nltk.sentiment.vader import SentimentIntensityAnalyzer\n",
    "from nltk import sentiment"
   ]
  },
  {
   "cell_type": "markdown",
   "metadata": {},
   "source": [
    "Note that we could use a tokenizer that works best for sentiment analysis (see the commented out code below). Since we've already tokenized our text we'll stick with that corpus. "
   ]
  },
  {
   "cell_type": "code",
   "execution_count": null,
   "metadata": {},
   "outputs": [],
   "source": [
    "#nltk.download('punkt')\n",
    "#tokenizer = nltk.data.load('tokenizers/punkt/english.pickle')"
   ]
  },
  {
   "cell_type": "markdown",
   "metadata": {},
   "source": [
    "Let's initialize the vader SentimentIntensityAnalyzer and save it to a variable called sid."
   ]
  },
  {
   "cell_type": "code",
   "execution_count": 117,
   "metadata": {},
   "outputs": [],
   "source": [
    "sid = SentimentIntensityAnalyzer()"
   ]
  },
  {
   "cell_type": "markdown",
   "metadata": {},
   "source": [
    "Now we can use the features of the sentiment analysis tool. You can take a look at some of those features by typing sid. and then tabbing through the options."
   ]
  },
  {
   "cell_type": "code",
   "execution_count": null,
   "metadata": {},
   "outputs": [],
   "source": [
    "#sid"
   ]
  },
  {
   "cell_type": "markdown",
   "metadata": {},
   "source": [
    "First let's look at the 'polarity_scores' for a specific speech. For Sentiment analysis we don't need the cleaned speech, so we'll go back to our original speeches list.\n",
    "\n",
    "polarity_scores will give us positive and negative scores. This feature is built into VADER and can be requested on demand."
   ]
  },
  {
   "cell_type": "code",
   "execution_count": 118,
   "metadata": {},
   "outputs": [
    {
     "data": {
      "text/plain": [
       "{'neg': 0.062, 'neu': 0.799, 'pos': 0.14, 'compound': 1.0}"
      ]
     },
     "execution_count": 118,
     "metadata": {},
     "output_type": "execute_result"
    }
   ],
   "source": [
    "scores = sid.polarity_scores(speeches[100])\n",
    "scores"
   ]
  },
  {
   "cell_type": "markdown",
   "metadata": {},
   "source": [
    "### Dictionaries\n",
    "We can format the output by looping through the scores dictionary. Remember that dictionaries are key:value pairs stored in curly brackets. We can cycle through the scores dictionary like so: "
   ]
  },
  {
   "cell_type": "code",
   "execution_count": 119,
   "metadata": {},
   "outputs": [
    {
     "name": "stdout",
     "output_type": "stream",
     "text": [
      "compound: 1.0\n",
      "neg: 0.062\n",
      "neu: 0.799\n",
      "pos: 0.14\n"
     ]
    }
   ],
   "source": [
    "for key in sorted(scores):\n",
    "    print('{0}: {1}'.format(key, scores[key]), end='\\n')"
   ]
  },
  {
   "cell_type": "markdown",
   "metadata": {},
   "source": [
    "Now let's look at the scores for the entire speeches corpus.\n",
    "We'll create another dictionary, 'all_scores', that will use the speeches index as the key, and the scores as its value. Note that this means that the value for each item in 'all_scores' will contain *another* dictionary.\n",
    "\n",
    "This might take a few minutes to run because it has to analyze all 235 speeches."
   ]
  },
  {
   "cell_type": "code",
   "execution_count": 120,
   "metadata": {},
   "outputs": [],
   "source": [
    "all_scores = {}\n",
    "for idx, speech in enumerate(speeches):\n",
    "    all_scores[idx] = sid.polarity_scores(speech)"
   ]
  },
  {
   "cell_type": "markdown",
   "metadata": {},
   "source": [
    "Now we can take a look at the scores for specific speeches by referencing the index/key of all_scores:"
   ]
  },
  {
   "cell_type": "code",
   "execution_count": 121,
   "metadata": {},
   "outputs": [
    {
     "data": {
      "text/plain": [
       "{'neg': 0.094, 'neu': 0.735, 'pos': 0.17, 'compound': 0.9999}"
      ]
     },
     "execution_count": 121,
     "metadata": {},
     "output_type": "execute_result"
    }
   ],
   "source": [
    "all_scores[235]"
   ]
  },
  {
   "cell_type": "markdown",
   "metadata": {},
   "source": [
    "We can look at a specific score by referencing the key within the scores dictionary. "
   ]
  },
  {
   "cell_type": "code",
   "execution_count": 122,
   "metadata": {},
   "outputs": [
    {
     "data": {
      "text/plain": [
       "0.094"
      ]
     },
     "execution_count": 122,
     "metadata": {},
     "output_type": "execute_result"
    }
   ],
   "source": [
    "all_scores[235]['neg']"
   ]
  },
  {
   "cell_type": "markdown",
   "metadata": {},
   "source": [
    "From here, we can list all of the negative scores for the corpus. \n",
    "\n",
    "To keep it somewhat simple, let's just create a new dictionary that will only contain negative scores. We can create an empty dictionary called negative, then cycle through each key:value item in the all_scores dictionary from above. For each item, we'll assign the index number as its key and the negative score as its value."
   ]
  },
  {
   "cell_type": "code",
   "execution_count": 123,
   "metadata": {},
   "outputs": [],
   "source": [
    "negative = {}\n",
    "for score in all_scores.items():\n",
    "    negative[score[0]] =  score[1]['neg']"
   ]
  },
  {
   "cell_type": "markdown",
   "metadata": {},
   "source": [
    "We can use Matplotlib again here to plot out the negative scores for the entire corpus."
   ]
  },
  {
   "cell_type": "code",
   "execution_count": 124,
   "metadata": {},
   "outputs": [
    {
     "data": {
      "image/png": "[encoded data removed]",
      "text/plain": [
       "<Figure size 800x640 with 1 Axes>"
      ]
     },
     "metadata": {
      "needs_background": "light"
     },
     "output_type": "display_data"
    }
   ],
   "source": [
    "x_speech = list(negative.keys())\n",
    "y_neg = list(negative.values())\n",
    "fig=plt.figure(figsize=(10, 8), dpi= 80)\n",
    "plt.plot(x_speech, y_neg)\n",
    "plt.ylabel(\"Negative value\")\n",
    "plt.xlabel(\"Speech\")\n",
    "plt.title('Negativity of speeches over time')\n",
    "plt.show()"
   ]
  },
  {
   "cell_type": "markdown",
   "metadata": {},
   "source": [
    "#### Most negative speeches\n",
    "The graph gives us a nice visualization of some overall trends, but it's hard to identify specific speeches here. We can just sort our dictionary, using the sorted() method we used above to look at the most negatively scored speeches in the corpus."
   ]
  },
  {
   "cell_type": "code",
   "execution_count": 125,
   "metadata": {},
   "outputs": [
    {
     "data": {
      "text/plain": [
       "[222, 152, 221, 155, 24]"
      ]
     },
     "execution_count": 125,
     "metadata": {},
     "output_type": "execute_result"
    }
   ],
   "source": [
    "sorted(negative, key=negative.get, reverse=True)[:5]"
   ]
  },
  {
   "cell_type": "code",
   "execution_count": 126,
   "metadata": {},
   "outputs": [
    {
     "data": {
      "text/plain": [
       "'Mr. Speaker, Vice President Cheney, Members of Congress, distinguished citizens and fellow citizens: Every year, by law and by custom, we meet here to consider the state of the Union. This year, we gather in this Chamber deeply aware of decisive days that lie ahead. \\n\\nYou and I serve our country in a time of great consequence. During this session of Congress, we have the duty to reform domestic programs vital to our country. We have the opportunity to save millions of lives abroad from a terribl'"
      ]
     },
     "execution_count": 126,
     "metadata": {},
     "output_type": "execute_result"
    }
   ],
   "source": [
    "speeches[222][0:500]"
   ]
  },
  {
   "cell_type": "markdown",
   "metadata": {},
   "source": [
    "#### Least negative speeches\n",
    "We can use the default sort (ascending values) to view the least negative speeches in the corpus."
   ]
  },
  {
   "cell_type": "code",
   "execution_count": 127,
   "metadata": {},
   "outputs": [
    {
     "data": {
      "text/plain": [
       "[11, 0, 21, 2, 36]"
      ]
     },
     "execution_count": 127,
     "metadata": {},
     "output_type": "execute_result"
    }
   ],
   "source": [
    "sorted(negative, key=negative.get)[:5]"
   ]
  },
  {
   "cell_type": "markdown",
   "metadata": {},
   "source": [
    "## Acknowledgements\n",
    "Some of the code, descriptions, and examples above are taken from:\n",
    "* UC Berkeley's D-Lab [workshop on Text Analysis Fundamentals](https://dlab.berkeley.edu/training/text-analysis-fundamentals-unsupervised-approaches-10).\n",
    "* Software Carpentry's open source [Python curriculum](http://swcarpentry.github.io/python-novice-inflammation/)."
   ]
  },
  {
   "cell_type": "markdown",
   "metadata": {},
   "source": [
    "## Where to Go for Help\n",
    "- Contact LATISresearch@umn.edu or DASH@umn.edu\n",
    "- Software Carpentry & Programming Pizza now email-based consultations"
   ]
  }
 ],
 "metadata": {
  "kernelspec": {
   "display_name": "Python 3",
   "language": "python",
   "name": "python3"
  },
  "language_info": {
   "codemirror_mode": {
    "name": "ipython",
    "version": 3
   },
   "file_extension": ".py",
   "mimetype": "text/x-python",
   "name": "python",
   "nbconvert_exporter": "python",
   "pygments_lexer": "ipython3",
   "version": "3.7.0"
  }
 },
 "nbformat": 4,
 "nbformat_minor": 2
}
